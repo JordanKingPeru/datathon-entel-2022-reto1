{
 "cells": [
  {
   "cell_type": "code",
   "execution_count": 1,
   "metadata": {},
   "outputs": [],
   "source": [
    "import pandas as pd"
   ]
  },
  {
   "cell_type": "code",
   "execution_count": 18,
   "metadata": {},
   "outputs": [],
   "source": [
    "df_predict = pd.read_csv('../04DB/09dfmodel/predict_570a9785427a.csv')\n",
    "df_model = pd.read_parquet('../04DB/09dfmodel/dfmodel_woe_leaderboard_202204.parquet')\n",
    "df_unico = pd.read_parquet('../04DB/08target/envio_202204.parquet')"
   ]
  },
  {
   "cell_type": "code",
   "execution_count": 19,
   "metadata": {},
   "outputs": [
    {
     "name": "stdout",
     "output_type": "stream",
     "text": [
      "(186549, 2)\n"
     ]
    }
   ],
   "source": [
    "df_result = pd.concat([df_model,df_predict],axis=1)[['nro_telefono_hash','predict']]\n",
    "df_result.rename(columns={'predict':'TARGET'},inplace=True)\n",
    "df_result = pd.concat([df_result,df_unico])\n",
    "print(df_result.shape)\n",
    "df_result.to_csv('../03Result/01_h2o_570a9785427a.csv',index=False)"
   ]
  },
  {
   "cell_type": "code",
   "execution_count": 20,
   "metadata": {},
   "outputs": [
    {
     "data": {
      "text/html": [
       "<div>\n",
       "<style scoped>\n",
       "    .dataframe tbody tr th:only-of-type {\n",
       "        vertical-align: middle;\n",
       "    }\n",
       "\n",
       "    .dataframe tbody tr th {\n",
       "        vertical-align: top;\n",
       "    }\n",
       "\n",
       "    .dataframe thead th {\n",
       "        text-align: right;\n",
       "    }\n",
       "</style>\n",
       "<table border=\"1\" class=\"dataframe\">\n",
       "  <thead>\n",
       "    <tr style=\"text-align: right;\">\n",
       "      <th></th>\n",
       "      <th>nro_telefono_hash</th>\n",
       "      <th>TARGET</th>\n",
       "    </tr>\n",
       "  </thead>\n",
       "  <tbody>\n",
       "    <tr>\n",
       "      <th>0</th>\n",
       "      <td>ac8e7810e7d278b75f99a38183357eb28a2cb582f1875a...</td>\n",
       "      <td>0.069306</td>\n",
       "    </tr>\n",
       "    <tr>\n",
       "      <th>1</th>\n",
       "      <td>93d2534f78d216261f0e0ce2e4d3e938f1d03fb8a4c766...</td>\n",
       "      <td>0.054096</td>\n",
       "    </tr>\n",
       "    <tr>\n",
       "      <th>2</th>\n",
       "      <td>0095dd8326c84eb25f2a2f888de98d29201dc9bd918829...</td>\n",
       "      <td>0.021476</td>\n",
       "    </tr>\n",
       "    <tr>\n",
       "      <th>3</th>\n",
       "      <td>255a24c2b9ecb57e21346616932f52c9a12924f7bf4738...</td>\n",
       "      <td>0.034020</td>\n",
       "    </tr>\n",
       "    <tr>\n",
       "      <th>4</th>\n",
       "      <td>28257d69713585f4741944029f476de65c9eda832e3063...</td>\n",
       "      <td>0.038057</td>\n",
       "    </tr>\n",
       "    <tr>\n",
       "      <th>...</th>\n",
       "      <td>...</td>\n",
       "      <td>...</td>\n",
       "    </tr>\n",
       "    <tr>\n",
       "      <th>186544</th>\n",
       "      <td>0174e5229c02b6ee544d738c8c8178c97e22144bf8bd27...</td>\n",
       "      <td>0.010580</td>\n",
       "    </tr>\n",
       "    <tr>\n",
       "      <th>186545</th>\n",
       "      <td>70fd84e8c764cf037b94f4a0a0cc59d286a76f93867464...</td>\n",
       "      <td>0.017298</td>\n",
       "    </tr>\n",
       "    <tr>\n",
       "      <th>186546</th>\n",
       "      <td>51e40673c492c7610bf1103d54e31c7cb856710b4583ab...</td>\n",
       "      <td>0.062772</td>\n",
       "    </tr>\n",
       "    <tr>\n",
       "      <th>186547</th>\n",
       "      <td>6b28874b0dd7bde30c04df8db6b42b522d7ae6e89a3364...</td>\n",
       "      <td>0.070961</td>\n",
       "    </tr>\n",
       "    <tr>\n",
       "      <th>733097</th>\n",
       "      <td>e1de8382dec551e3c8fdbfd6746bbdf7fb0e3aa49dd933...</td>\n",
       "      <td>0.000000</td>\n",
       "    </tr>\n",
       "  </tbody>\n",
       "</table>\n",
       "<p>186549 rows × 2 columns</p>\n",
       "</div>"
      ],
      "text/plain": [
       "                                        nro_telefono_hash    TARGET\n",
       "0       ac8e7810e7d278b75f99a38183357eb28a2cb582f1875a...  0.069306\n",
       "1       93d2534f78d216261f0e0ce2e4d3e938f1d03fb8a4c766...  0.054096\n",
       "2       0095dd8326c84eb25f2a2f888de98d29201dc9bd918829...  0.021476\n",
       "3       255a24c2b9ecb57e21346616932f52c9a12924f7bf4738...  0.034020\n",
       "4       28257d69713585f4741944029f476de65c9eda832e3063...  0.038057\n",
       "...                                                   ...       ...\n",
       "186544  0174e5229c02b6ee544d738c8c8178c97e22144bf8bd27...  0.010580\n",
       "186545  70fd84e8c764cf037b94f4a0a0cc59d286a76f93867464...  0.017298\n",
       "186546  51e40673c492c7610bf1103d54e31c7cb856710b4583ab...  0.062772\n",
       "186547  6b28874b0dd7bde30c04df8db6b42b522d7ae6e89a3364...  0.070961\n",
       "733097  e1de8382dec551e3c8fdbfd6746bbdf7fb0e3aa49dd933...  0.000000\n",
       "\n",
       "[186549 rows x 2 columns]"
      ]
     },
     "execution_count": 20,
     "metadata": {},
     "output_type": "execute_result"
    }
   ],
   "source": [
    "df_result"
   ]
  },
  {
   "cell_type": "markdown",
   "metadata": {},
   "source": []
  }
 ],
 "metadata": {
  "kernelspec": {
   "display_name": "Python 3.8.8 ('base')",
   "language": "python",
   "name": "python3"
  },
  "language_info": {
   "codemirror_mode": {
    "name": "ipython",
    "version": 3
   },
   "file_extension": ".py",
   "mimetype": "text/x-python",
   "name": "python",
   "nbconvert_exporter": "python",
   "pygments_lexer": "ipython3",
   "version": "3.8.8"
  },
  "orig_nbformat": 4,
  "vscode": {
   "interpreter": {
    "hash": "ad2bdc8ecc057115af97d19610ffacc2b4e99fae6737bb82f5d7fb13d2f2c186"
   }
  }
 },
 "nbformat": 4,
 "nbformat_minor": 2
}
