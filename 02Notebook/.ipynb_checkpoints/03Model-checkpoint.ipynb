{
 "cells": [
  {
   "cell_type": "markdown",
   "metadata": {
    "id": "dUeKVCYTbcyT"
   },
   "source": [
    "#### Copyright 2019 The TensorFlow Authors."
   ]
  },
  {
   "cell_type": "code",
   "execution_count": 1,
   "metadata": {
    "cellView": "form",
    "execution": {
     "iopub.execute_input": "2022-06-08T04:13:51.257713Z",
     "iopub.status.busy": "2022-06-08T04:13:51.257462Z",
     "iopub.status.idle": "2022-06-08T04:13:51.261054Z",
     "shell.execute_reply": "2022-06-08T04:13:51.260597Z"
    },
    "id": "4ellrPx7tdxq"
   },
   "outputs": [],
   "source": [
    "#@title Licensed under the Apache License, Version 2.0 (the \"License\");\n",
    "# you may not use this file except in compliance with the License.\n",
    "# You may obtain a copy of the License at\n",
    "#\n",
    "# https://www.apache.org/licenses/LICENSE-2.0\n",
    "#\n",
    "# Unless required by applicable law or agreed to in writing, software\n",
    "# distributed under the License is distributed on an \"AS IS\" BASIS,\n",
    "# WITHOUT WARRANTIES OR CONDITIONS OF ANY KIND, either express or implied.\n",
    "# See the License for the specific language governing permissions and\n",
    "# limitations under the License."
   ]
  },
  {
   "cell_type": "markdown",
   "metadata": {
    "id": "7JfLUlawto_D"
   },
   "source": [
    "# Classification on imbalanced data"
   ]
  },
  {
   "cell_type": "markdown",
   "metadata": {
    "id": "DwdpaTKJOoPu"
   },
   "source": [
    "<table class=\"tfo-notebook-buttons\" align=\"left\">\n",
    "  <td>\n",
    "    <a target=\"_blank\" href=\"https://www.tensorflow.org/tutorials/structured_data/imbalanced_data\"><img src=\"https://www.tensorflow.org/images/tf_logo_32px.png\" />View on TensorFlow.org</a>\n",
    "  </td>\n",
    "  <td>\n",
    "    <a target=\"_blank\" href=\"https://colab.research.google.com/github/tensorflow/docs/blob/master/site/en/tutorials/structured_data/imbalanced_data.ipynb\"><img src=\"https://www.tensorflow.org/images/colab_logo_32px.png\" />Run in Google Colab</a>\n",
    "  </td>\n",
    "  <td>\n",
    "    <a target=\"_blank\" href=\"https://github.com/tensorflow/docs/blob/master/site/en/tutorials/structured_data/imbalanced_data.ipynb\"><img src=\"https://www.tensorflow.org/images/GitHub-Mark-32px.png\" />View source on GitHub</a>\n",
    "  </td>\n",
    "  <td>\n",
    "    <a href=\"https://storage.googleapis.com/tensorflow_docs/docs/site/en/tutorials/structured_data/imbalanced_data.ipynb\"><img src=\"https://www.tensorflow.org/images/download_logo_32px.png\" />Download notebook</a>\n",
    "  </td>\n",
    "</table>"
   ]
  },
  {
   "cell_type": "markdown",
   "metadata": {
    "id": "mthoSGBAOoX-"
   },
   "source": [
    "This tutorial demonstrates how to classify a highly imbalanced dataset in which the number of examples in one class greatly outnumbers the examples in another. You will work with the [Credit Card Fraud Detection](https://www.kaggle.com/mlg-ulb/creditcardfraud) dataset hosted on Kaggle. The aim is to detect a mere 492 fraudulent transactions from 284,807 transactions in total. You will use [Keras](https://www.tensorflow.org/guide/keras/overview) to define the model and [class weights](https://www.tensorflow.org/versions/r2.0/api_docs/python/tf/keras/Model) to help the model learn from the imbalanced data. .\n",
    "\n",
    "This tutorial contains complete code to:\n",
    "\n",
    "* Load a CSV file using Pandas.\n",
    "* Create train, validation, and test sets.\n",
    "* Define and train a model using Keras (including setting class weights).\n",
    "* Evaluate the model using various metrics (including precision and recall).\n",
    "* Try common techniques for dealing with imbalanced data like:\n",
    "    * Class weighting \n",
    "    * Oversampling\n"
   ]
  },
  {
   "cell_type": "markdown",
   "metadata": {
    "id": "kRHmSyHxEIhN"
   },
   "source": [
    "## Setup"
   ]
  },
  {
   "cell_type": "code",
   "execution_count": 1,
   "metadata": {
    "id": "JM7hDSNClfoK",
    "tags": []
   },
   "outputs": [],
   "source": [
    "import tensorflow as tf\n",
    "from tensorflow import keras\n",
    "\n",
    "import os\n",
    "import tempfile\n",
    "\n",
    "import matplotlib as mpl\n",
    "import matplotlib.pyplot as plt\n",
    "import numpy as np\n",
    "import pandas as pd\n",
    "import seaborn as sns\n",
    "\n",
    "import sklearn\n",
    "from sklearn.metrics import confusion_matrix\n",
    "from sklearn.model_selection import train_test_split\n",
    "from sklearn.preprocessing import StandardScaler"
   ]
  },
  {
   "cell_type": "code",
   "execution_count": 2,
   "metadata": {
    "id": "c8o1FHzD-_y_",
    "tags": []
   },
   "outputs": [],
   "source": [
    "mpl.rcParams['figure.figsize'] = (12, 10)\n",
    "colors = plt.rcParams['axes.prop_cycle'].by_key()['color']"
   ]
  },
  {
   "cell_type": "markdown",
   "metadata": {
    "id": "Z3iZVjziKHmX"
   },
   "source": [
    "## Data processing and exploration"
   ]
  },
  {
   "cell_type": "markdown",
   "metadata": {
    "id": "4sA9WOcmzH2D"
   },
   "source": [
    "### Download the Kaggle Credit Card Fraud data set\n",
    "\n",
    "Pandas is a Python library with many helpful utilities for loading and working with structured data. It can be used to download CSVs into a Pandas [DataFrame](https://pandas.pydata.org/docs/reference/api/pandas.DataFrame.html#pandas.DataFrame).\n",
    "\n",
    "Note: This dataset has been collected and analysed during a research collaboration of Worldline and the [Machine Learning Group](http://mlg.ulb.ac.be) of ULB (Université Libre de Bruxelles) on big data mining and fraud detection. More details on current and past projects on related topics are available [here](https://www.researchgate.net/project/Fraud-detection-5) and the page of the [DefeatFraud](https://mlg.ulb.ac.be/wordpress/portfolio_page/defeatfraud-assessment-and-validation-of-deep-feature-engineering-and-learning-solutions-for-fraud-detection/) project"
   ]
  },
  {
   "cell_type": "code",
   "execution_count": 17,
   "metadata": {
    "id": "pR_SnbMArXr7",
    "tags": []
   },
   "outputs": [
    {
     "data": {
      "text/html": [
       "<div>\n",
       "<style scoped>\n",
       "    .dataframe tbody tr th:only-of-type {\n",
       "        vertical-align: middle;\n",
       "    }\n",
       "\n",
       "    .dataframe tbody tr th {\n",
       "        vertical-align: top;\n",
       "    }\n",
       "\n",
       "    .dataframe thead th {\n",
       "        text-align: right;\n",
       "    }\n",
       "</style>\n",
       "<table border=\"1\" class=\"dataframe\">\n",
       "  <thead>\n",
       "    <tr style=\"text-align: right;\">\n",
       "      <th></th>\n",
       "      <th>nro_documento_hash</th>\n",
       "      <th>nro_telefono_hash</th>\n",
       "      <th>periodo</th>\n",
       "      <th>tipo_adq</th>\n",
       "      <th>antiguedad_cliente</th>\n",
       "      <th>antiguedad_contrato</th>\n",
       "      <th>antiguedad_cliente_contrato</th>\n",
       "      <th>vchmesadenda</th>\n",
       "      <th>vchpenalidad</th>\n",
       "      <th>con_adenda</th>\n",
       "      <th>...</th>\n",
       "      <th>trafico_app_7</th>\n",
       "      <th>trafico_app_8</th>\n",
       "      <th>trafico_app_9</th>\n",
       "      <th>trafico_total</th>\n",
       "      <th>giro</th>\n",
       "      <th>subgiro</th>\n",
       "      <th>tiene_prod_1</th>\n",
       "      <th>tiene_prod_2</th>\n",
       "      <th>tiene_prod_3</th>\n",
       "      <th>Class</th>\n",
       "    </tr>\n",
       "  </thead>\n",
       "  <tbody>\n",
       "    <tr>\n",
       "      <th>0</th>\n",
       "      <td>5f58359a37ac456d9050c75aa36720b73063bf4b77f483...</td>\n",
       "      <td>9be57e3928a78ae85be270575f97e82a6bdbd59fc87281...</td>\n",
       "      <td>202201</td>\n",
       "      <td>-0.062110</td>\n",
       "      <td>130.0</td>\n",
       "      <td>37.0</td>\n",
       "      <td>93.0</td>\n",
       "      <td>NaN</td>\n",
       "      <td>NaN</td>\n",
       "      <td>NaN</td>\n",
       "      <td>...</td>\n",
       "      <td>0.000000</td>\n",
       "      <td>0.000000</td>\n",
       "      <td>0.0</td>\n",
       "      <td>16606.140346</td>\n",
       "      <td>0.045084</td>\n",
       "      <td>0.045889</td>\n",
       "      <td>1</td>\n",
       "      <td>0</td>\n",
       "      <td>0</td>\n",
       "      <td>0</td>\n",
       "    </tr>\n",
       "    <tr>\n",
       "      <th>1</th>\n",
       "      <td>ea411834dcd05b9e5eb4e1bed1a6b99250b33a4293fe46...</td>\n",
       "      <td>119dd6dff66e259a3996de7d885e2c54e8ed5874239346...</td>\n",
       "      <td>202201</td>\n",
       "      <td>-0.062110</td>\n",
       "      <td>197.0</td>\n",
       "      <td>37.0</td>\n",
       "      <td>160.0</td>\n",
       "      <td>7.6</td>\n",
       "      <td>365.57</td>\n",
       "      <td>1.0</td>\n",
       "      <td>...</td>\n",
       "      <td>0.029129</td>\n",
       "      <td>180.536775</td>\n",
       "      <td>0.0</td>\n",
       "      <td>3705.222886</td>\n",
       "      <td>0.045084</td>\n",
       "      <td>0.045889</td>\n",
       "      <td>1</td>\n",
       "      <td>0</td>\n",
       "      <td>0</td>\n",
       "      <td>0</td>\n",
       "    </tr>\n",
       "    <tr>\n",
       "      <th>2</th>\n",
       "      <td>ea411834dcd05b9e5eb4e1bed1a6b99250b33a4293fe46...</td>\n",
       "      <td>73cec44593f362cccdb45773197a0bf2136978cb241c91...</td>\n",
       "      <td>202201</td>\n",
       "      <td>-0.062110</td>\n",
       "      <td>197.0</td>\n",
       "      <td>37.0</td>\n",
       "      <td>160.0</td>\n",
       "      <td>NaN</td>\n",
       "      <td>NaN</td>\n",
       "      <td>NaN</td>\n",
       "      <td>...</td>\n",
       "      <td>12.869561</td>\n",
       "      <td>980.521564</td>\n",
       "      <td>0.0</td>\n",
       "      <td>4617.043791</td>\n",
       "      <td>0.045084</td>\n",
       "      <td>0.045889</td>\n",
       "      <td>1</td>\n",
       "      <td>0</td>\n",
       "      <td>0</td>\n",
       "      <td>0</td>\n",
       "    </tr>\n",
       "    <tr>\n",
       "      <th>3</th>\n",
       "      <td>ea411834dcd05b9e5eb4e1bed1a6b99250b33a4293fe46...</td>\n",
       "      <td>db86e518af696d60b247466fd1bb5823cf81a9442c16b2...</td>\n",
       "      <td>202201</td>\n",
       "      <td>0.078901</td>\n",
       "      <td>197.0</td>\n",
       "      <td>37.0</td>\n",
       "      <td>160.0</td>\n",
       "      <td>NaN</td>\n",
       "      <td>NaN</td>\n",
       "      <td>NaN</td>\n",
       "      <td>...</td>\n",
       "      <td>0.000000</td>\n",
       "      <td>0.000000</td>\n",
       "      <td>0.0</td>\n",
       "      <td>0.000000</td>\n",
       "      <td>0.045084</td>\n",
       "      <td>0.045889</td>\n",
       "      <td>1</td>\n",
       "      <td>0</td>\n",
       "      <td>0</td>\n",
       "      <td>0</td>\n",
       "    </tr>\n",
       "    <tr>\n",
       "      <th>4</th>\n",
       "      <td>ea411834dcd05b9e5eb4e1bed1a6b99250b33a4293fe46...</td>\n",
       "      <td>90d5ab1ad28da36b0fa821759b0a9df2b248dc92a557a5...</td>\n",
       "      <td>202201</td>\n",
       "      <td>-0.062110</td>\n",
       "      <td>197.0</td>\n",
       "      <td>37.0</td>\n",
       "      <td>160.0</td>\n",
       "      <td>NaN</td>\n",
       "      <td>NaN</td>\n",
       "      <td>NaN</td>\n",
       "      <td>...</td>\n",
       "      <td>1.113294</td>\n",
       "      <td>37.027894</td>\n",
       "      <td>0.0</td>\n",
       "      <td>450.053533</td>\n",
       "      <td>0.045084</td>\n",
       "      <td>0.045889</td>\n",
       "      <td>1</td>\n",
       "      <td>0</td>\n",
       "      <td>0</td>\n",
       "      <td>0</td>\n",
       "    </tr>\n",
       "  </tbody>\n",
       "</table>\n",
       "<p>5 rows × 57 columns</p>\n",
       "</div>"
      ],
      "text/plain": [
       "                                  nro_documento_hash  \\\n",
       "0  5f58359a37ac456d9050c75aa36720b73063bf4b77f483...   \n",
       "1  ea411834dcd05b9e5eb4e1bed1a6b99250b33a4293fe46...   \n",
       "2  ea411834dcd05b9e5eb4e1bed1a6b99250b33a4293fe46...   \n",
       "3  ea411834dcd05b9e5eb4e1bed1a6b99250b33a4293fe46...   \n",
       "4  ea411834dcd05b9e5eb4e1bed1a6b99250b33a4293fe46...   \n",
       "\n",
       "                                   nro_telefono_hash  periodo  tipo_adq  \\\n",
       "0  9be57e3928a78ae85be270575f97e82a6bdbd59fc87281...   202201 -0.062110   \n",
       "1  119dd6dff66e259a3996de7d885e2c54e8ed5874239346...   202201 -0.062110   \n",
       "2  73cec44593f362cccdb45773197a0bf2136978cb241c91...   202201 -0.062110   \n",
       "3  db86e518af696d60b247466fd1bb5823cf81a9442c16b2...   202201  0.078901   \n",
       "4  90d5ab1ad28da36b0fa821759b0a9df2b248dc92a557a5...   202201 -0.062110   \n",
       "\n",
       "   antiguedad_cliente  antiguedad_contrato  antiguedad_cliente_contrato  \\\n",
       "0               130.0                 37.0                         93.0   \n",
       "1               197.0                 37.0                        160.0   \n",
       "2               197.0                 37.0                        160.0   \n",
       "3               197.0                 37.0                        160.0   \n",
       "4               197.0                 37.0                        160.0   \n",
       "\n",
       "   vchmesadenda  vchpenalidad  con_adenda  ...  trafico_app_7  trafico_app_8  \\\n",
       "0           NaN           NaN         NaN  ...       0.000000       0.000000   \n",
       "1           7.6        365.57         1.0  ...       0.029129     180.536775   \n",
       "2           NaN           NaN         NaN  ...      12.869561     980.521564   \n",
       "3           NaN           NaN         NaN  ...       0.000000       0.000000   \n",
       "4           NaN           NaN         NaN  ...       1.113294      37.027894   \n",
       "\n",
       "   trafico_app_9  trafico_total      giro   subgiro  tiene_prod_1  \\\n",
       "0            0.0   16606.140346  0.045084  0.045889             1   \n",
       "1            0.0    3705.222886  0.045084  0.045889             1   \n",
       "2            0.0    4617.043791  0.045084  0.045889             1   \n",
       "3            0.0       0.000000  0.045084  0.045889             1   \n",
       "4            0.0     450.053533  0.045084  0.045889             1   \n",
       "\n",
       "   tiene_prod_2  tiene_prod_3  Class  \n",
       "0             0             0      0  \n",
       "1             0             0      0  \n",
       "2             0             0      0  \n",
       "3             0             0      0  \n",
       "4             0             0      0  \n",
       "\n",
       "[5 rows x 57 columns]"
      ]
     },
     "execution_count": 17,
     "metadata": {},
     "output_type": "execute_result"
    }
   ],
   "source": [
    "file = tf.keras.utils\n",
    "raw_df = pd.read_parquet('../04DB/09dfmodel/dfmodel_woe_leaderboard.parquet').query('periodo<202204')\n",
    "raw_df.rename(columns={'target':'Class'},inplace=True)\n",
    "raw_df.head()"
   ]
  },
  {
   "cell_type": "code",
   "execution_count": 4,
   "metadata": {
    "id": "-fgdQgmwUFuj",
    "tags": []
   },
   "outputs": [
    {
     "data": {
      "text/html": [
       "<div>\n",
       "<style scoped>\n",
       "    .dataframe tbody tr th:only-of-type {\n",
       "        vertical-align: middle;\n",
       "    }\n",
       "\n",
       "    .dataframe tbody tr th {\n",
       "        vertical-align: top;\n",
       "    }\n",
       "\n",
       "    .dataframe thead th {\n",
       "        text-align: right;\n",
       "    }\n",
       "</style>\n",
       "<table border=\"1\" class=\"dataframe\">\n",
       "  <thead>\n",
       "    <tr style=\"text-align: right;\">\n",
       "      <th></th>\n",
       "      <th>Time</th>\n",
       "      <th>V1</th>\n",
       "      <th>V2</th>\n",
       "      <th>V3</th>\n",
       "      <th>V4</th>\n",
       "      <th>V5</th>\n",
       "      <th>V26</th>\n",
       "      <th>V27</th>\n",
       "      <th>V28</th>\n",
       "      <th>Amount</th>\n",
       "      <th>Class</th>\n",
       "    </tr>\n",
       "  </thead>\n",
       "  <tbody>\n",
       "    <tr>\n",
       "      <th>count</th>\n",
       "      <td>284807.000000</td>\n",
       "      <td>2.848070e+05</td>\n",
       "      <td>2.848070e+05</td>\n",
       "      <td>2.848070e+05</td>\n",
       "      <td>2.848070e+05</td>\n",
       "      <td>2.848070e+05</td>\n",
       "      <td>2.848070e+05</td>\n",
       "      <td>2.848070e+05</td>\n",
       "      <td>2.848070e+05</td>\n",
       "      <td>284807.000000</td>\n",
       "      <td>284807.000000</td>\n",
       "    </tr>\n",
       "    <tr>\n",
       "      <th>mean</th>\n",
       "      <td>94813.859575</td>\n",
       "      <td>1.168375e-15</td>\n",
       "      <td>3.416908e-16</td>\n",
       "      <td>-1.379537e-15</td>\n",
       "      <td>2.074095e-15</td>\n",
       "      <td>9.604066e-16</td>\n",
       "      <td>1.683437e-15</td>\n",
       "      <td>-3.660091e-16</td>\n",
       "      <td>-1.227390e-16</td>\n",
       "      <td>88.349619</td>\n",
       "      <td>0.001727</td>\n",
       "    </tr>\n",
       "    <tr>\n",
       "      <th>std</th>\n",
       "      <td>47488.145955</td>\n",
       "      <td>1.958696e+00</td>\n",
       "      <td>1.651309e+00</td>\n",
       "      <td>1.516255e+00</td>\n",
       "      <td>1.415869e+00</td>\n",
       "      <td>1.380247e+00</td>\n",
       "      <td>4.822270e-01</td>\n",
       "      <td>4.036325e-01</td>\n",
       "      <td>3.300833e-01</td>\n",
       "      <td>250.120109</td>\n",
       "      <td>0.041527</td>\n",
       "    </tr>\n",
       "    <tr>\n",
       "      <th>min</th>\n",
       "      <td>0.000000</td>\n",
       "      <td>-5.640751e+01</td>\n",
       "      <td>-7.271573e+01</td>\n",
       "      <td>-4.832559e+01</td>\n",
       "      <td>-5.683171e+00</td>\n",
       "      <td>-1.137433e+02</td>\n",
       "      <td>-2.604551e+00</td>\n",
       "      <td>-2.256568e+01</td>\n",
       "      <td>-1.543008e+01</td>\n",
       "      <td>0.000000</td>\n",
       "      <td>0.000000</td>\n",
       "    </tr>\n",
       "    <tr>\n",
       "      <th>25%</th>\n",
       "      <td>54201.500000</td>\n",
       "      <td>-9.203734e-01</td>\n",
       "      <td>-5.985499e-01</td>\n",
       "      <td>-8.903648e-01</td>\n",
       "      <td>-8.486401e-01</td>\n",
       "      <td>-6.915971e-01</td>\n",
       "      <td>-3.269839e-01</td>\n",
       "      <td>-7.083953e-02</td>\n",
       "      <td>-5.295979e-02</td>\n",
       "      <td>5.600000</td>\n",
       "      <td>0.000000</td>\n",
       "    </tr>\n",
       "    <tr>\n",
       "      <th>50%</th>\n",
       "      <td>84692.000000</td>\n",
       "      <td>1.810880e-02</td>\n",
       "      <td>6.548556e-02</td>\n",
       "      <td>1.798463e-01</td>\n",
       "      <td>-1.984653e-02</td>\n",
       "      <td>-5.433583e-02</td>\n",
       "      <td>-5.213911e-02</td>\n",
       "      <td>1.342146e-03</td>\n",
       "      <td>1.124383e-02</td>\n",
       "      <td>22.000000</td>\n",
       "      <td>0.000000</td>\n",
       "    </tr>\n",
       "    <tr>\n",
       "      <th>75%</th>\n",
       "      <td>139320.500000</td>\n",
       "      <td>1.315642e+00</td>\n",
       "      <td>8.037239e-01</td>\n",
       "      <td>1.027196e+00</td>\n",
       "      <td>7.433413e-01</td>\n",
       "      <td>6.119264e-01</td>\n",
       "      <td>2.409522e-01</td>\n",
       "      <td>9.104512e-02</td>\n",
       "      <td>7.827995e-02</td>\n",
       "      <td>77.165000</td>\n",
       "      <td>0.000000</td>\n",
       "    </tr>\n",
       "    <tr>\n",
       "      <th>max</th>\n",
       "      <td>172792.000000</td>\n",
       "      <td>2.454930e+00</td>\n",
       "      <td>2.205773e+01</td>\n",
       "      <td>9.382558e+00</td>\n",
       "      <td>1.687534e+01</td>\n",
       "      <td>3.480167e+01</td>\n",
       "      <td>3.517346e+00</td>\n",
       "      <td>3.161220e+01</td>\n",
       "      <td>3.384781e+01</td>\n",
       "      <td>25691.160000</td>\n",
       "      <td>1.000000</td>\n",
       "    </tr>\n",
       "  </tbody>\n",
       "</table>\n",
       "</div>"
      ],
      "text/plain": [
       "                Time            V1            V2            V3            V4  \\\n",
       "count  284807.000000  2.848070e+05  2.848070e+05  2.848070e+05  2.848070e+05   \n",
       "mean    94813.859575  1.168375e-15  3.416908e-16 -1.379537e-15  2.074095e-15   \n",
       "std     47488.145955  1.958696e+00  1.651309e+00  1.516255e+00  1.415869e+00   \n",
       "min         0.000000 -5.640751e+01 -7.271573e+01 -4.832559e+01 -5.683171e+00   \n",
       "25%     54201.500000 -9.203734e-01 -5.985499e-01 -8.903648e-01 -8.486401e-01   \n",
       "50%     84692.000000  1.810880e-02  6.548556e-02  1.798463e-01 -1.984653e-02   \n",
       "75%    139320.500000  1.315642e+00  8.037239e-01  1.027196e+00  7.433413e-01   \n",
       "max    172792.000000  2.454930e+00  2.205773e+01  9.382558e+00  1.687534e+01   \n",
       "\n",
       "                 V5           V26           V27           V28         Amount  \\\n",
       "count  2.848070e+05  2.848070e+05  2.848070e+05  2.848070e+05  284807.000000   \n",
       "mean   9.604066e-16  1.683437e-15 -3.660091e-16 -1.227390e-16      88.349619   \n",
       "std    1.380247e+00  4.822270e-01  4.036325e-01  3.300833e-01     250.120109   \n",
       "min   -1.137433e+02 -2.604551e+00 -2.256568e+01 -1.543008e+01       0.000000   \n",
       "25%   -6.915971e-01 -3.269839e-01 -7.083953e-02 -5.295979e-02       5.600000   \n",
       "50%   -5.433583e-02 -5.213911e-02  1.342146e-03  1.124383e-02      22.000000   \n",
       "75%    6.119264e-01  2.409522e-01  9.104512e-02  7.827995e-02      77.165000   \n",
       "max    3.480167e+01  3.517346e+00  3.161220e+01  3.384781e+01   25691.160000   \n",
       "\n",
       "               Class  \n",
       "count  284807.000000  \n",
       "mean        0.001727  \n",
       "std         0.041527  \n",
       "min         0.000000  \n",
       "25%         0.000000  \n",
       "50%         0.000000  \n",
       "75%         0.000000  \n",
       "max         1.000000  "
      ]
     },
     "execution_count": 4,
     "metadata": {},
     "output_type": "execute_result"
    }
   ],
   "source": [
    "raw_df[['Time', 'V1', 'V2', 'V3', 'V4', 'V5', 'V26', 'V27', 'V28', 'Amount', 'Class']].describe()"
   ]
  },
  {
   "cell_type": "markdown",
   "metadata": {
    "id": "xWKB_CVZFLpB"
   },
   "source": [
    "### Examine the class label imbalance\n",
    "\n",
    "Let's look at the dataset imbalance:"
   ]
  },
  {
   "cell_type": "code",
   "execution_count": 18,
   "metadata": {
    "id": "HCJFrtuY2iLF",
    "tags": []
   },
   "outputs": [
    {
     "name": "stdout",
     "output_type": "stream",
     "text": [
      "Examples:\n",
      "    Total: 547992\n",
      "    Positive: 16472 (3.01% of total)\n",
      "\n"
     ]
    }
   ],
   "source": [
    "neg, pos = np.bincount(raw_df['Class'])\n",
    "total = neg + pos\n",
    "print('Examples:\\n    Total: {}\\n    Positive: {} ({:.2f}% of total)\\n'.format(\n",
    "    total, pos, 100 * pos / total))"
   ]
  },
  {
   "cell_type": "markdown",
   "metadata": {
    "id": "KnLKFQDsCBUg"
   },
   "source": [
    "This shows the small fraction of positive samples."
   ]
  },
  {
   "cell_type": "markdown",
   "metadata": {
    "id": "6qox6ryyzwdr"
   },
   "source": [
    "### Clean, split and normalize the data\n",
    "\n",
    "The raw data has a few issues. First the `Time` and `Amount` columns are too variable to use directly. Drop the `Time` column (since it's not clear what it means) and take the log of the `Amount` column to reduce its range."
   ]
  },
  {
   "cell_type": "code",
   "execution_count": 19,
   "metadata": {},
   "outputs": [
    {
     "name": "stdout",
     "output_type": "stream",
     "text": [
      "<class 'pandas.core.frame.DataFrame'>\n",
      "Int64Index: 547992 entries, 0 to 547991\n",
      "Data columns (total 57 columns):\n",
      " #   Column                       Non-Null Count   Dtype  \n",
      "---  ------                       --------------   -----  \n",
      " 0   nro_documento_hash           547992 non-null  object \n",
      " 1   nro_telefono_hash            547992 non-null  object \n",
      " 2   periodo                      547992 non-null  int64  \n",
      " 3   tipo_adq                     547992 non-null  float64\n",
      " 4   antiguedad_cliente           547992 non-null  float64\n",
      " 5   antiguedad_contrato          547992 non-null  float64\n",
      " 6   antiguedad_cliente_contrato  547992 non-null  float64\n",
      " 7   vchmesadenda                 94810 non-null   float64\n",
      " 8   vchpenalidad                 94797 non-null   float64\n",
      " 9   con_adenda                   94810 non-null   float64\n",
      " 10  grupo                        547992 non-null  float64\n",
      " 11  scorecat                     547992 non-null  float64\n",
      " 12  grupo_1                      462100 non-null  float64\n",
      " 13  grupo_2                      462100 non-null  float64\n",
      " 14  grupo_3                      462100 non-null  float64\n",
      " 15  grupo_4                      462100 non-null  float64\n",
      " 16  grupo_5                      462100 non-null  float64\n",
      " 17  grupo_6                      462100 non-null  float64\n",
      " 18  grupo_7                      462100 non-null  float64\n",
      " 19  grupo_8                      462100 non-null  float64\n",
      " 20  grupo_9                      462100 non-null  float64\n",
      " 21  grupo_10                     462100 non-null  float64\n",
      " 22  grupo_11                     462100 non-null  float64\n",
      " 23  cant_grupos                  462100 non-null  float64\n",
      " 24  tiposerviciocount            12569 non-null   float64\n",
      " 25  minutossum                   12569 non-null   float64\n",
      " 26  minutosmean                  7129 non-null    float64\n",
      " 27  mensajessum                  12569 non-null   float64\n",
      " 28  gigassum                     12569 non-null   float64\n",
      " 29  gigasmean                    12569 non-null   float64\n",
      " 30  gigasstd                     10623 non-null   float64\n",
      " 31  max_tiempo_interaccion       12569 non-null   float64\n",
      " 32  tiposervicio                 547992 non-null  float64\n",
      " 33  marca                        547992 non-null  float64\n",
      " 34  modelo                       547992 non-null  float64\n",
      " 35  nueva_gamma                  547992 non-null  float64\n",
      " 36  os                           547992 non-null  float64\n",
      " 37  device_type                  547992 non-null  float64\n",
      " 38  antiguedad_lanzamiento       419069 non-null  float64\n",
      " 39  mins_flujo_1                 522818 non-null  float64\n",
      " 40  mins_flujo_2                 522818 non-null  float64\n",
      " 41  trafico_app_1                522818 non-null  float64\n",
      " 42  trafico_app_2                522818 non-null  float64\n",
      " 43  trafico_app_3                522818 non-null  float64\n",
      " 44  trafico_app_4                522818 non-null  float64\n",
      " 45  trafico_app_5                522818 non-null  float64\n",
      " 46  trafico_app_6                522818 non-null  float64\n",
      " 47  trafico_app_7                522818 non-null  float64\n",
      " 48  trafico_app_8                522818 non-null  float64\n",
      " 49  trafico_app_9                522818 non-null  float64\n",
      " 50  trafico_total                522818 non-null  float64\n",
      " 51  giro                         547992 non-null  float64\n",
      " 52  subgiro                      547992 non-null  float64\n",
      " 53  tiene_prod_1                 547992 non-null  int64  \n",
      " 54  tiene_prod_2                 547992 non-null  int64  \n",
      " 55  tiene_prod_3                 547992 non-null  int64  \n",
      " 56  Class                        547992 non-null  int64  \n",
      "dtypes: float64(50), int64(5), object(2)\n",
      "memory usage: 242.5+ MB\n"
     ]
    }
   ],
   "source": [
    "#raw_df.gigassum.plot()\n",
    "raw_df.info()\n",
    "#raw_df.antiguedad_contrato.plot()"
   ]
  },
  {
   "cell_type": "code",
   "execution_count": 21,
   "metadata": {
    "id": "Ef42jTuxEjnj",
    "tags": []
   },
   "outputs": [],
   "source": [
    "cleaned_df = raw_df.copy()\n",
    "\n",
    "# You don't want the `Time` column.\n",
    "#cleaned_df.pop(['fecingresocliente','fecactivacioncontrato','fechatraficomin','fechatraficomax','lanzamiento'])\n",
    "\n",
    "# The `Amount` column covers a huge range. Convert to log-space.\n",
    "eps = 0.001 # 0 => 0.1¢\n",
    "cleaned_df['Log_antiguedad_contrato'] = np.log(cleaned_df.pop('antiguedad_contrato')+eps)"
   ]
  },
  {
   "cell_type": "code",
   "execution_count": 23,
   "metadata": {},
   "outputs": [],
   "source": [
    "cleaned_df.set_index(['nro_documento_hash','nro_telefono_hash','periodo'],inplace=True)"
   ]
  },
  {
   "cell_type": "markdown",
   "metadata": {
    "id": "uSNgdQFFFQ6u"
   },
   "source": [
    "Split the dataset into train, validation, and test sets. The validation set is used during the model fitting to evaluate the loss and any metrics, however the model is not fit with this data. The test set is completely unused during the training phase and is only used at the end to evaluate how well the model generalizes to new data. This is especially important with imbalanced datasets where [overfitting](https://developers.google.com/machine-learning/crash-course/generalization/peril-of-overfitting) is a significant concern from the lack of training data."
   ]
  },
  {
   "cell_type": "code",
   "execution_count": 77,
   "metadata": {},
   "outputs": [
    {
     "data": {
      "text/html": [
       "<div>\n",
       "<style scoped>\n",
       "    .dataframe tbody tr th:only-of-type {\n",
       "        vertical-align: middle;\n",
       "    }\n",
       "\n",
       "    .dataframe tbody tr th {\n",
       "        vertical-align: top;\n",
       "    }\n",
       "\n",
       "    .dataframe thead th {\n",
       "        text-align: right;\n",
       "    }\n",
       "</style>\n",
       "<table border=\"1\" class=\"dataframe\">\n",
       "  <thead>\n",
       "    <tr style=\"text-align: right;\">\n",
       "      <th></th>\n",
       "      <th></th>\n",
       "      <th></th>\n",
       "      <th>tipo_adq</th>\n",
       "      <th>antiguedad_cliente</th>\n",
       "      <th>antiguedad_cliente_contrato</th>\n",
       "      <th>vchmesadenda</th>\n",
       "      <th>vchpenalidad</th>\n",
       "      <th>con_adenda</th>\n",
       "      <th>grupo</th>\n",
       "      <th>scorecat</th>\n",
       "      <th>grupo_1</th>\n",
       "      <th>grupo_2</th>\n",
       "      <th>...</th>\n",
       "      <th>trafico_app_8</th>\n",
       "      <th>trafico_app_9</th>\n",
       "      <th>trafico_total</th>\n",
       "      <th>giro</th>\n",
       "      <th>subgiro</th>\n",
       "      <th>tiene_prod_1</th>\n",
       "      <th>tiene_prod_2</th>\n",
       "      <th>tiene_prod_3</th>\n",
       "      <th>Class</th>\n",
       "      <th>Log_antiguedad_contrato</th>\n",
       "    </tr>\n",
       "    <tr>\n",
       "      <th>nro_documento_hash</th>\n",
       "      <th>nro_telefono_hash</th>\n",
       "      <th>periodo</th>\n",
       "      <th></th>\n",
       "      <th></th>\n",
       "      <th></th>\n",
       "      <th></th>\n",
       "      <th></th>\n",
       "      <th></th>\n",
       "      <th></th>\n",
       "      <th></th>\n",
       "      <th></th>\n",
       "      <th></th>\n",
       "      <th></th>\n",
       "      <th></th>\n",
       "      <th></th>\n",
       "      <th></th>\n",
       "      <th></th>\n",
       "      <th></th>\n",
       "      <th></th>\n",
       "      <th></th>\n",
       "      <th></th>\n",
       "      <th></th>\n",
       "      <th></th>\n",
       "    </tr>\n",
       "  </thead>\n",
       "  <tbody>\n",
       "    <tr>\n",
       "      <th>5f58359a37ac456d9050c75aa36720b73063bf4b77f4831e251f6c116fc02093</th>\n",
       "      <th>9be57e3928a78ae85be270575f97e82a6bdbd59fc87281828616cc7e95a57e0d</th>\n",
       "      <th>202201</th>\n",
       "      <td>-0.062110</td>\n",
       "      <td>130.0</td>\n",
       "      <td>93.0</td>\n",
       "      <td>NaN</td>\n",
       "      <td>NaN</td>\n",
       "      <td>NaN</td>\n",
       "      <td>-0.190453</td>\n",
       "      <td>-0.171590</td>\n",
       "      <td>0.0</td>\n",
       "      <td>-1.0</td>\n",
       "      <td>...</td>\n",
       "      <td>0.000000</td>\n",
       "      <td>0.0</td>\n",
       "      <td>16606.140346</td>\n",
       "      <td>0.045084</td>\n",
       "      <td>0.045889</td>\n",
       "      <td>1</td>\n",
       "      <td>0</td>\n",
       "      <td>0</td>\n",
       "      <td>0</td>\n",
       "      <td>3.610945</td>\n",
       "    </tr>\n",
       "    <tr>\n",
       "      <th rowspan=\"4\" valign=\"top\">ea411834dcd05b9e5eb4e1bed1a6b99250b33a4293fe46fe8f3259bc79101e9f</th>\n",
       "      <th>119dd6dff66e259a3996de7d885e2c54e8ed5874239346e483154694e9670a3f</th>\n",
       "      <th>202201</th>\n",
       "      <td>-0.062110</td>\n",
       "      <td>197.0</td>\n",
       "      <td>160.0</td>\n",
       "      <td>7.6</td>\n",
       "      <td>365.57</td>\n",
       "      <td>1.0</td>\n",
       "      <td>-0.043851</td>\n",
       "      <td>-0.171590</td>\n",
       "      <td>-1.0</td>\n",
       "      <td>-1.0</td>\n",
       "      <td>...</td>\n",
       "      <td>180.536775</td>\n",
       "      <td>0.0</td>\n",
       "      <td>3705.222886</td>\n",
       "      <td>0.045084</td>\n",
       "      <td>0.045889</td>\n",
       "      <td>1</td>\n",
       "      <td>0</td>\n",
       "      <td>0</td>\n",
       "      <td>0</td>\n",
       "      <td>3.610945</td>\n",
       "    </tr>\n",
       "    <tr>\n",
       "      <th>73cec44593f362cccdb45773197a0bf2136978cb241c91eed802b7bfd4cdc076</th>\n",
       "      <th>202201</th>\n",
       "      <td>-0.062110</td>\n",
       "      <td>197.0</td>\n",
       "      <td>160.0</td>\n",
       "      <td>NaN</td>\n",
       "      <td>NaN</td>\n",
       "      <td>NaN</td>\n",
       "      <td>-0.310351</td>\n",
       "      <td>-0.079152</td>\n",
       "      <td>0.0</td>\n",
       "      <td>-1.0</td>\n",
       "      <td>...</td>\n",
       "      <td>980.521564</td>\n",
       "      <td>0.0</td>\n",
       "      <td>4617.043791</td>\n",
       "      <td>0.045084</td>\n",
       "      <td>0.045889</td>\n",
       "      <td>1</td>\n",
       "      <td>0</td>\n",
       "      <td>0</td>\n",
       "      <td>0</td>\n",
       "      <td>3.610945</td>\n",
       "    </tr>\n",
       "    <tr>\n",
       "      <th>db86e518af696d60b247466fd1bb5823cf81a9442c16b2ad9b790c5d2d2c9f5e</th>\n",
       "      <th>202201</th>\n",
       "      <td>0.078901</td>\n",
       "      <td>197.0</td>\n",
       "      <td>160.0</td>\n",
       "      <td>NaN</td>\n",
       "      <td>NaN</td>\n",
       "      <td>NaN</td>\n",
       "      <td>0.000000</td>\n",
       "      <td>0.000000</td>\n",
       "      <td>NaN</td>\n",
       "      <td>NaN</td>\n",
       "      <td>...</td>\n",
       "      <td>0.000000</td>\n",
       "      <td>0.0</td>\n",
       "      <td>0.000000</td>\n",
       "      <td>0.045084</td>\n",
       "      <td>0.045889</td>\n",
       "      <td>1</td>\n",
       "      <td>0</td>\n",
       "      <td>0</td>\n",
       "      <td>0</td>\n",
       "      <td>3.610945</td>\n",
       "    </tr>\n",
       "    <tr>\n",
       "      <th>90d5ab1ad28da36b0fa821759b0a9df2b248dc92a557a57defb766bf256179a8</th>\n",
       "      <th>202201</th>\n",
       "      <td>-0.062110</td>\n",
       "      <td>197.0</td>\n",
       "      <td>160.0</td>\n",
       "      <td>NaN</td>\n",
       "      <td>NaN</td>\n",
       "      <td>NaN</td>\n",
       "      <td>0.261842</td>\n",
       "      <td>-0.171590</td>\n",
       "      <td>-1.0</td>\n",
       "      <td>-1.0</td>\n",
       "      <td>...</td>\n",
       "      <td>37.027894</td>\n",
       "      <td>0.0</td>\n",
       "      <td>450.053533</td>\n",
       "      <td>0.045084</td>\n",
       "      <td>0.045889</td>\n",
       "      <td>1</td>\n",
       "      <td>0</td>\n",
       "      <td>0</td>\n",
       "      <td>0</td>\n",
       "      <td>3.610945</td>\n",
       "    </tr>\n",
       "  </tbody>\n",
       "</table>\n",
       "<p>5 rows × 54 columns</p>\n",
       "</div>"
      ],
      "text/plain": [
       "                                                                                                               tipo_adq  \\\n",
       "nro_documento_hash                                 nro_telefono_hash                                  periodo             \n",
       "5f58359a37ac456d9050c75aa36720b73063bf4b77f4831... 9be57e3928a78ae85be270575f97e82a6bdbd59fc872818... 202201  -0.062110   \n",
       "ea411834dcd05b9e5eb4e1bed1a6b99250b33a4293fe46f... 119dd6dff66e259a3996de7d885e2c54e8ed5874239346e... 202201  -0.062110   \n",
       "                                                   73cec44593f362cccdb45773197a0bf2136978cb241c91e... 202201  -0.062110   \n",
       "                                                   db86e518af696d60b247466fd1bb5823cf81a9442c16b2a... 202201   0.078901   \n",
       "                                                   90d5ab1ad28da36b0fa821759b0a9df2b248dc92a557a57... 202201  -0.062110   \n",
       "\n",
       "                                                                                                               antiguedad_cliente  \\\n",
       "nro_documento_hash                                 nro_telefono_hash                                  periodo                       \n",
       "5f58359a37ac456d9050c75aa36720b73063bf4b77f4831... 9be57e3928a78ae85be270575f97e82a6bdbd59fc872818... 202201                130.0   \n",
       "ea411834dcd05b9e5eb4e1bed1a6b99250b33a4293fe46f... 119dd6dff66e259a3996de7d885e2c54e8ed5874239346e... 202201                197.0   \n",
       "                                                   73cec44593f362cccdb45773197a0bf2136978cb241c91e... 202201                197.0   \n",
       "                                                   db86e518af696d60b247466fd1bb5823cf81a9442c16b2a... 202201                197.0   \n",
       "                                                   90d5ab1ad28da36b0fa821759b0a9df2b248dc92a557a57... 202201                197.0   \n",
       "\n",
       "                                                                                                               antiguedad_cliente_contrato  \\\n",
       "nro_documento_hash                                 nro_telefono_hash                                  periodo                                \n",
       "5f58359a37ac456d9050c75aa36720b73063bf4b77f4831... 9be57e3928a78ae85be270575f97e82a6bdbd59fc872818... 202201                          93.0   \n",
       "ea411834dcd05b9e5eb4e1bed1a6b99250b33a4293fe46f... 119dd6dff66e259a3996de7d885e2c54e8ed5874239346e... 202201                         160.0   \n",
       "                                                   73cec44593f362cccdb45773197a0bf2136978cb241c91e... 202201                         160.0   \n",
       "                                                   db86e518af696d60b247466fd1bb5823cf81a9442c16b2a... 202201                         160.0   \n",
       "                                                   90d5ab1ad28da36b0fa821759b0a9df2b248dc92a557a57... 202201                         160.0   \n",
       "\n",
       "                                                                                                               vchmesadenda  \\\n",
       "nro_documento_hash                                 nro_telefono_hash                                  periodo                 \n",
       "5f58359a37ac456d9050c75aa36720b73063bf4b77f4831... 9be57e3928a78ae85be270575f97e82a6bdbd59fc872818... 202201            NaN   \n",
       "ea411834dcd05b9e5eb4e1bed1a6b99250b33a4293fe46f... 119dd6dff66e259a3996de7d885e2c54e8ed5874239346e... 202201            7.6   \n",
       "                                                   73cec44593f362cccdb45773197a0bf2136978cb241c91e... 202201            NaN   \n",
       "                                                   db86e518af696d60b247466fd1bb5823cf81a9442c16b2a... 202201            NaN   \n",
       "                                                   90d5ab1ad28da36b0fa821759b0a9df2b248dc92a557a57... 202201            NaN   \n",
       "\n",
       "                                                                                                               vchpenalidad  \\\n",
       "nro_documento_hash                                 nro_telefono_hash                                  periodo                 \n",
       "5f58359a37ac456d9050c75aa36720b73063bf4b77f4831... 9be57e3928a78ae85be270575f97e82a6bdbd59fc872818... 202201            NaN   \n",
       "ea411834dcd05b9e5eb4e1bed1a6b99250b33a4293fe46f... 119dd6dff66e259a3996de7d885e2c54e8ed5874239346e... 202201         365.57   \n",
       "                                                   73cec44593f362cccdb45773197a0bf2136978cb241c91e... 202201            NaN   \n",
       "                                                   db86e518af696d60b247466fd1bb5823cf81a9442c16b2a... 202201            NaN   \n",
       "                                                   90d5ab1ad28da36b0fa821759b0a9df2b248dc92a557a57... 202201            NaN   \n",
       "\n",
       "                                                                                                               con_adenda  \\\n",
       "nro_documento_hash                                 nro_telefono_hash                                  periodo               \n",
       "5f58359a37ac456d9050c75aa36720b73063bf4b77f4831... 9be57e3928a78ae85be270575f97e82a6bdbd59fc872818... 202201          NaN   \n",
       "ea411834dcd05b9e5eb4e1bed1a6b99250b33a4293fe46f... 119dd6dff66e259a3996de7d885e2c54e8ed5874239346e... 202201          1.0   \n",
       "                                                   73cec44593f362cccdb45773197a0bf2136978cb241c91e... 202201          NaN   \n",
       "                                                   db86e518af696d60b247466fd1bb5823cf81a9442c16b2a... 202201          NaN   \n",
       "                                                   90d5ab1ad28da36b0fa821759b0a9df2b248dc92a557a57... 202201          NaN   \n",
       "\n",
       "                                                                                                                  grupo  \\\n",
       "nro_documento_hash                                 nro_telefono_hash                                  periodo             \n",
       "5f58359a37ac456d9050c75aa36720b73063bf4b77f4831... 9be57e3928a78ae85be270575f97e82a6bdbd59fc872818... 202201  -0.190453   \n",
       "ea411834dcd05b9e5eb4e1bed1a6b99250b33a4293fe46f... 119dd6dff66e259a3996de7d885e2c54e8ed5874239346e... 202201  -0.043851   \n",
       "                                                   73cec44593f362cccdb45773197a0bf2136978cb241c91e... 202201  -0.310351   \n",
       "                                                   db86e518af696d60b247466fd1bb5823cf81a9442c16b2a... 202201   0.000000   \n",
       "                                                   90d5ab1ad28da36b0fa821759b0a9df2b248dc92a557a57... 202201   0.261842   \n",
       "\n",
       "                                                                                                               scorecat  \\\n",
       "nro_documento_hash                                 nro_telefono_hash                                  periodo             \n",
       "5f58359a37ac456d9050c75aa36720b73063bf4b77f4831... 9be57e3928a78ae85be270575f97e82a6bdbd59fc872818... 202201  -0.171590   \n",
       "ea411834dcd05b9e5eb4e1bed1a6b99250b33a4293fe46f... 119dd6dff66e259a3996de7d885e2c54e8ed5874239346e... 202201  -0.171590   \n",
       "                                                   73cec44593f362cccdb45773197a0bf2136978cb241c91e... 202201  -0.079152   \n",
       "                                                   db86e518af696d60b247466fd1bb5823cf81a9442c16b2a... 202201   0.000000   \n",
       "                                                   90d5ab1ad28da36b0fa821759b0a9df2b248dc92a557a57... 202201  -0.171590   \n",
       "\n",
       "                                                                                                               grupo_1  \\\n",
       "nro_documento_hash                                 nro_telefono_hash                                  periodo            \n",
       "5f58359a37ac456d9050c75aa36720b73063bf4b77f4831... 9be57e3928a78ae85be270575f97e82a6bdbd59fc872818... 202201       0.0   \n",
       "ea411834dcd05b9e5eb4e1bed1a6b99250b33a4293fe46f... 119dd6dff66e259a3996de7d885e2c54e8ed5874239346e... 202201      -1.0   \n",
       "                                                   73cec44593f362cccdb45773197a0bf2136978cb241c91e... 202201       0.0   \n",
       "                                                   db86e518af696d60b247466fd1bb5823cf81a9442c16b2a... 202201       NaN   \n",
       "                                                   90d5ab1ad28da36b0fa821759b0a9df2b248dc92a557a57... 202201      -1.0   \n",
       "\n",
       "                                                                                                               grupo_2  \\\n",
       "nro_documento_hash                                 nro_telefono_hash                                  periodo            \n",
       "5f58359a37ac456d9050c75aa36720b73063bf4b77f4831... 9be57e3928a78ae85be270575f97e82a6bdbd59fc872818... 202201      -1.0   \n",
       "ea411834dcd05b9e5eb4e1bed1a6b99250b33a4293fe46f... 119dd6dff66e259a3996de7d885e2c54e8ed5874239346e... 202201      -1.0   \n",
       "                                                   73cec44593f362cccdb45773197a0bf2136978cb241c91e... 202201      -1.0   \n",
       "                                                   db86e518af696d60b247466fd1bb5823cf81a9442c16b2a... 202201       NaN   \n",
       "                                                   90d5ab1ad28da36b0fa821759b0a9df2b248dc92a557a57... 202201      -1.0   \n",
       "\n",
       "                                                                                                               ...  \\\n",
       "nro_documento_hash                                 nro_telefono_hash                                  periodo  ...   \n",
       "5f58359a37ac456d9050c75aa36720b73063bf4b77f4831... 9be57e3928a78ae85be270575f97e82a6bdbd59fc872818... 202201   ...   \n",
       "ea411834dcd05b9e5eb4e1bed1a6b99250b33a4293fe46f... 119dd6dff66e259a3996de7d885e2c54e8ed5874239346e... 202201   ...   \n",
       "                                                   73cec44593f362cccdb45773197a0bf2136978cb241c91e... 202201   ...   \n",
       "                                                   db86e518af696d60b247466fd1bb5823cf81a9442c16b2a... 202201   ...   \n",
       "                                                   90d5ab1ad28da36b0fa821759b0a9df2b248dc92a557a57... 202201   ...   \n",
       "\n",
       "                                                                                                               trafico_app_8  \\\n",
       "nro_documento_hash                                 nro_telefono_hash                                  periodo                  \n",
       "5f58359a37ac456d9050c75aa36720b73063bf4b77f4831... 9be57e3928a78ae85be270575f97e82a6bdbd59fc872818... 202201        0.000000   \n",
       "ea411834dcd05b9e5eb4e1bed1a6b99250b33a4293fe46f... 119dd6dff66e259a3996de7d885e2c54e8ed5874239346e... 202201      180.536775   \n",
       "                                                   73cec44593f362cccdb45773197a0bf2136978cb241c91e... 202201      980.521564   \n",
       "                                                   db86e518af696d60b247466fd1bb5823cf81a9442c16b2a... 202201        0.000000   \n",
       "                                                   90d5ab1ad28da36b0fa821759b0a9df2b248dc92a557a57... 202201       37.027894   \n",
       "\n",
       "                                                                                                               trafico_app_9  \\\n",
       "nro_documento_hash                                 nro_telefono_hash                                  periodo                  \n",
       "5f58359a37ac456d9050c75aa36720b73063bf4b77f4831... 9be57e3928a78ae85be270575f97e82a6bdbd59fc872818... 202201             0.0   \n",
       "ea411834dcd05b9e5eb4e1bed1a6b99250b33a4293fe46f... 119dd6dff66e259a3996de7d885e2c54e8ed5874239346e... 202201             0.0   \n",
       "                                                   73cec44593f362cccdb45773197a0bf2136978cb241c91e... 202201             0.0   \n",
       "                                                   db86e518af696d60b247466fd1bb5823cf81a9442c16b2a... 202201             0.0   \n",
       "                                                   90d5ab1ad28da36b0fa821759b0a9df2b248dc92a557a57... 202201             0.0   \n",
       "\n",
       "                                                                                                               trafico_total  \\\n",
       "nro_documento_hash                                 nro_telefono_hash                                  periodo                  \n",
       "5f58359a37ac456d9050c75aa36720b73063bf4b77f4831... 9be57e3928a78ae85be270575f97e82a6bdbd59fc872818... 202201    16606.140346   \n",
       "ea411834dcd05b9e5eb4e1bed1a6b99250b33a4293fe46f... 119dd6dff66e259a3996de7d885e2c54e8ed5874239346e... 202201     3705.222886   \n",
       "                                                   73cec44593f362cccdb45773197a0bf2136978cb241c91e... 202201     4617.043791   \n",
       "                                                   db86e518af696d60b247466fd1bb5823cf81a9442c16b2a... 202201        0.000000   \n",
       "                                                   90d5ab1ad28da36b0fa821759b0a9df2b248dc92a557a57... 202201      450.053533   \n",
       "\n",
       "                                                                                                                   giro  \\\n",
       "nro_documento_hash                                 nro_telefono_hash                                  periodo             \n",
       "5f58359a37ac456d9050c75aa36720b73063bf4b77f4831... 9be57e3928a78ae85be270575f97e82a6bdbd59fc872818... 202201   0.045084   \n",
       "ea411834dcd05b9e5eb4e1bed1a6b99250b33a4293fe46f... 119dd6dff66e259a3996de7d885e2c54e8ed5874239346e... 202201   0.045084   \n",
       "                                                   73cec44593f362cccdb45773197a0bf2136978cb241c91e... 202201   0.045084   \n",
       "                                                   db86e518af696d60b247466fd1bb5823cf81a9442c16b2a... 202201   0.045084   \n",
       "                                                   90d5ab1ad28da36b0fa821759b0a9df2b248dc92a557a57... 202201   0.045084   \n",
       "\n",
       "                                                                                                                subgiro  \\\n",
       "nro_documento_hash                                 nro_telefono_hash                                  periodo             \n",
       "5f58359a37ac456d9050c75aa36720b73063bf4b77f4831... 9be57e3928a78ae85be270575f97e82a6bdbd59fc872818... 202201   0.045889   \n",
       "ea411834dcd05b9e5eb4e1bed1a6b99250b33a4293fe46f... 119dd6dff66e259a3996de7d885e2c54e8ed5874239346e... 202201   0.045889   \n",
       "                                                   73cec44593f362cccdb45773197a0bf2136978cb241c91e... 202201   0.045889   \n",
       "                                                   db86e518af696d60b247466fd1bb5823cf81a9442c16b2a... 202201   0.045889   \n",
       "                                                   90d5ab1ad28da36b0fa821759b0a9df2b248dc92a557a57... 202201   0.045889   \n",
       "\n",
       "                                                                                                               tiene_prod_1  \\\n",
       "nro_documento_hash                                 nro_telefono_hash                                  periodo                 \n",
       "5f58359a37ac456d9050c75aa36720b73063bf4b77f4831... 9be57e3928a78ae85be270575f97e82a6bdbd59fc872818... 202201              1   \n",
       "ea411834dcd05b9e5eb4e1bed1a6b99250b33a4293fe46f... 119dd6dff66e259a3996de7d885e2c54e8ed5874239346e... 202201              1   \n",
       "                                                   73cec44593f362cccdb45773197a0bf2136978cb241c91e... 202201              1   \n",
       "                                                   db86e518af696d60b247466fd1bb5823cf81a9442c16b2a... 202201              1   \n",
       "                                                   90d5ab1ad28da36b0fa821759b0a9df2b248dc92a557a57... 202201              1   \n",
       "\n",
       "                                                                                                               tiene_prod_2  \\\n",
       "nro_documento_hash                                 nro_telefono_hash                                  periodo                 \n",
       "5f58359a37ac456d9050c75aa36720b73063bf4b77f4831... 9be57e3928a78ae85be270575f97e82a6bdbd59fc872818... 202201              0   \n",
       "ea411834dcd05b9e5eb4e1bed1a6b99250b33a4293fe46f... 119dd6dff66e259a3996de7d885e2c54e8ed5874239346e... 202201              0   \n",
       "                                                   73cec44593f362cccdb45773197a0bf2136978cb241c91e... 202201              0   \n",
       "                                                   db86e518af696d60b247466fd1bb5823cf81a9442c16b2a... 202201              0   \n",
       "                                                   90d5ab1ad28da36b0fa821759b0a9df2b248dc92a557a57... 202201              0   \n",
       "\n",
       "                                                                                                               tiene_prod_3  \\\n",
       "nro_documento_hash                                 nro_telefono_hash                                  periodo                 \n",
       "5f58359a37ac456d9050c75aa36720b73063bf4b77f4831... 9be57e3928a78ae85be270575f97e82a6bdbd59fc872818... 202201              0   \n",
       "ea411834dcd05b9e5eb4e1bed1a6b99250b33a4293fe46f... 119dd6dff66e259a3996de7d885e2c54e8ed5874239346e... 202201              0   \n",
       "                                                   73cec44593f362cccdb45773197a0bf2136978cb241c91e... 202201              0   \n",
       "                                                   db86e518af696d60b247466fd1bb5823cf81a9442c16b2a... 202201              0   \n",
       "                                                   90d5ab1ad28da36b0fa821759b0a9df2b248dc92a557a57... 202201              0   \n",
       "\n",
       "                                                                                                               Class  \\\n",
       "nro_documento_hash                                 nro_telefono_hash                                  periodo          \n",
       "5f58359a37ac456d9050c75aa36720b73063bf4b77f4831... 9be57e3928a78ae85be270575f97e82a6bdbd59fc872818... 202201       0   \n",
       "ea411834dcd05b9e5eb4e1bed1a6b99250b33a4293fe46f... 119dd6dff66e259a3996de7d885e2c54e8ed5874239346e... 202201       0   \n",
       "                                                   73cec44593f362cccdb45773197a0bf2136978cb241c91e... 202201       0   \n",
       "                                                   db86e518af696d60b247466fd1bb5823cf81a9442c16b2a... 202201       0   \n",
       "                                                   90d5ab1ad28da36b0fa821759b0a9df2b248dc92a557a57... 202201       0   \n",
       "\n",
       "                                                                                                               Log_antiguedad_contrato  \n",
       "nro_documento_hash                                 nro_telefono_hash                                  periodo                           \n",
       "5f58359a37ac456d9050c75aa36720b73063bf4b77f4831... 9be57e3928a78ae85be270575f97e82a6bdbd59fc872818... 202201                  3.610945  \n",
       "ea411834dcd05b9e5eb4e1bed1a6b99250b33a4293fe46f... 119dd6dff66e259a3996de7d885e2c54e8ed5874239346e... 202201                  3.610945  \n",
       "                                                   73cec44593f362cccdb45773197a0bf2136978cb241c91e... 202201                  3.610945  \n",
       "                                                   db86e518af696d60b247466fd1bb5823cf81a9442c16b2a... 202201                  3.610945  \n",
       "                                                   90d5ab1ad28da36b0fa821759b0a9df2b248dc92a557a57... 202201                  3.610945  \n",
       "\n",
       "[5 rows x 54 columns]"
      ]
     },
     "execution_count": 77,
     "metadata": {},
     "output_type": "execute_result"
    }
   ],
   "source": [
    "cleaned_df.head()"
   ]
  },
  {
   "cell_type": "code",
   "execution_count": 155,
   "metadata": {
    "id": "xfxhKg7Yr1-b",
    "tags": []
   },
   "outputs": [],
   "source": [
    "# Use a utility from sklearn to split and shuffle your dataset.\n",
    "train_df, test_df = train_test_split(cleaned_df, test_size=0.5)\n",
    "train_df, val_df = train_test_split(train_df, test_size=0.5)\n",
    "\n",
    "# Form np arrays of labels and features.\n",
    "train_labels = np.array(train_df.pop('Class'))\n",
    "bool_train_labels = train_labels != 0\n",
    "val_labels = np.array(val_df.pop('Class'))\n",
    "test_labels = np.array(test_df.pop('Class'))\n",
    "\n",
    "train_features = np.array(train_df)\n",
    "val_features = np.array(val_df)\n",
    "test_features = np.array(test_df)"
   ]
  },
  {
   "cell_type": "markdown",
   "metadata": {
    "id": "8a_Z_kBmr7Oh"
   },
   "source": [
    "Normalize the input features using the sklearn StandardScaler.\n",
    "This will set the mean to 0 and standard deviation to 1.\n",
    "\n",
    "Note: The `StandardScaler` is only fit using the `train_features` to be sure the model is not peeking at the validation or test sets. "
   ]
  },
  {
   "cell_type": "code",
   "execution_count": 156,
   "metadata": {
    "id": "IO-qEUmJ5JQg",
    "tags": []
   },
   "outputs": [
    {
     "name": "stdout",
     "output_type": "stream",
     "text": [
      "Training labels shape: (136998,)\n",
      "Validation labels shape: (136998,)\n",
      "Test labels shape: (273996,)\n",
      "Training features shape: (136998, 53)\n",
      "Validation features shape: (136998, 53)\n",
      "Test features shape: (273996, 53)\n"
     ]
    }
   ],
   "source": [
    "scaler = StandardScaler()\n",
    "train_features = scaler.fit_transform(train_features)\n",
    "\n",
    "val_features = scaler.transform(val_features)\n",
    "test_features = scaler.transform(test_features)\n",
    "\n",
    "train_features = np.clip(train_features, -5, 5)\n",
    "val_features = np.clip(val_features, -5, 5)\n",
    "test_features = np.clip(test_features, -5, 5)\n",
    "\n",
    "\n",
    "print('Training labels shape:', train_labels.shape)\n",
    "print('Validation labels shape:', val_labels.shape)\n",
    "print('Test labels shape:', test_labels.shape)\n",
    "\n",
    "print('Training features shape:', train_features.shape)\n",
    "print('Validation features shape:', val_features.shape)\n",
    "print('Test features shape:', test_features.shape)\n"
   ]
  },
  {
   "cell_type": "markdown",
   "metadata": {
    "id": "XF2nNfWKJ33w"
   },
   "source": [
    "Caution: If you want to deploy a model, it's critical that you preserve the preprocessing calculations. The easiest way to implement them as layers, and attach them to your model before export.\n"
   ]
  },
  {
   "cell_type": "markdown",
   "metadata": {
    "id": "uQ7m9nqDC3W6"
   },
   "source": [
    "### Look at the data distribution\n",
    "\n",
    "Next compare the distributions of the positive and negative examples over a few features. Good questions to ask yourself at this point are:\n",
    "\n",
    "* Do these distributions make sense? \n",
    "    * Yes. You've normalized the input and these are mostly concentrated in the `+/- 2` range.\n",
    "* Can you see the difference between the distributions?\n",
    "    * Yes the positive examples contain a much higher rate of extreme values."
   ]
  },
  {
   "cell_type": "code",
   "execution_count": 26,
   "metadata": {
    "id": "raK7hyjd_vf6",
    "tags": []
   },
   "outputs": [
    {
     "data": {
      "image/png": "[encoded data removed]",
      "text/plain": [
       "<Figure size 432x432 with 3 Axes>"
      ]
     },
     "metadata": {
      "needs_background": "light"
     },
     "output_type": "display_data"
    },
    {
     "data": {
      "image/png": "[encoded data removed]",
      "text/plain": [
       "<Figure size 432x432 with 3 Axes>"
      ]
     },
     "metadata": {
      "needs_background": "light"
     },
     "output_type": "display_data"
    }
   ],
   "source": [
    "pos_df = pd.DataFrame(train_features[ bool_train_labels], columns=train_df.columns)\n",
    "neg_df = pd.DataFrame(train_features[~bool_train_labels], columns=train_df.columns)\n",
    "\n",
    "sns.jointplot(x=pos_df['antiguedad_cliente_contrato'], y=pos_df['mins_flujo_1'],\n",
    "              kind='hex', xlim=(-5,5), ylim=(-5,5))\n",
    "plt.suptitle(\"Positive distribution\")\n",
    "\n",
    "sns.jointplot(x=neg_df['antiguedad_cliente_contrato'], y=neg_df['mins_flujo_1'],\n",
    "              kind='hex', xlim=(-5,5), ylim=(-5,5))\n",
    "_ = plt.suptitle(\"Negative distribution\")"
   ]
  },
  {
   "cell_type": "markdown",
   "metadata": {
    "id": "qFK1u4JX16D8"
   },
   "source": [
    "## Define the model and metrics\n",
    "\n",
    "Define a function that creates a simple neural network with a densly connected hidden layer, a [dropout](https://developers.google.com/machine-learning/glossary/#dropout_regularization) layer to reduce overfitting, and an output sigmoid layer that returns the probability of a transaction being fraudulent: "
   ]
  },
  {
   "cell_type": "code",
   "execution_count": 223,
   "metadata": {
    "id": "3JQDzUqT3UYG",
    "tags": []
   },
   "outputs": [],
   "source": [
    "METRICS = [\n",
    "      keras.metrics.TruePositives(name='tp'),\n",
    "      keras.metrics.FalsePositives(name='fp'),\n",
    "      keras.metrics.TrueNegatives(name='tn'),\n",
    "      keras.metrics.FalseNegatives(name='fn'), \n",
    "      keras.metrics.BinaryAccuracy(name='accuracy'),\n",
    "      keras.metrics.Precision(name='precision'),\n",
    "      keras.metrics.Recall(name='recall'),\n",
    "      keras.metrics.AUC(name='auc'),\n",
    "      keras.metrics.AUC(name='prc', curve='PR'), # precision-recall curve\n",
    "]\n",
    "\n",
    "def make_model(metrics=METRICS, output_bias=None):\n",
    "    from tensorflow.keras import regularizers\n",
    "    kerner_regularizer_l2 = regularizers.l2(5e-4)\n",
    "    kerner_regularizer_l1 = regularizers.l1(1e-5)\n",
    "    if output_bias is not None:\n",
    "        output_bias = tf.keras.initializers.Constant(output_bias)\n",
    "    model = keras.Sequential([\n",
    "      keras.layers.Dense(53, activation='relu',input_shape=(train_features.shape[-1],)),\n",
    "      keras.layers.Dense(100, activation='relu'),\n",
    "      keras.layers.Dense(100, activation='relu',kernel_regularizer=kerner_regularizer_l1),\n",
    "      keras.layers.Dense(100, activation='relu'),\n",
    "      keras.layers.Dropout(0.3),\n",
    "      keras.layers.Dense(1, activation='sigmoid',bias_initializer=output_bias),\n",
    "  ])\n",
    "\n",
    "    model.compile(\n",
    "      optimizer=keras.optimizers.Adam(learning_rate=1e-3),\n",
    "      loss=keras.losses.BinaryCrossentropy(),\n",
    "      metrics=metrics)\n",
    "\n",
    "    return model"
   ]
  },
  {
   "cell_type": "markdown",
   "metadata": {
    "id": "SU0GX6E6mieP"
   },
   "source": [
    "### Understanding useful metrics\n",
    "\n",
    "Notice that there are a few metrics defined above that can be computed by the model that will be helpful when evaluating the performance.\n",
    "\n",
    "\n",
    "\n",
    "*   **False** negatives and **false** positives are samples that were **incorrectly** classified\n",
    "*   **True** negatives and **true** positives are samples that were **correctly** classified\n",
    "*   **Accuracy** is the percentage of examples correctly classified\n",
    ">   $\\frac{\\text{true samples}}{\\text{total samples}}$\n",
    "*   **Precision** is the percentage of **predicted** positives that were correctly classified\n",
    ">   $\\frac{\\text{true positives}}{\\text{true positives + false positives}}$\n",
    "*   **Recall** is the percentage of **actual** positives that were correctly classified\n",
    ">   $\\frac{\\text{true positives}}{\\text{true positives + false negatives}}$\n",
    "*   **AUC** refers to the Area Under the Curve of a Receiver Operating Characteristic curve (ROC-AUC). This metric is equal to the probability that a classifier will rank a random positive sample higher than a random negative sample.\n",
    "*   **AUPRC** refers to Area Under the Curve of the Precision-Recall Curve. This metric computes precision-recall pairs for different probability thresholds. \n",
    "\n",
    "Note: Accuracy is not a helpful metric for this task. You can have 99.8%+ accuracy on this task by predicting False all the time.  \n",
    "\n",
    "Read more:\n",
    "*  [True vs. False and Positive vs. Negative](https://developers.google.com/machine-learning/crash-course/classification/true-false-positive-negative)\n",
    "*  [Accuracy](https://developers.google.com/machine-learning/crash-course/classification/accuracy)\n",
    "*   [Precision and Recall](https://developers.google.com/machine-learning/crash-course/classification/precision-and-recall)\n",
    "*   [ROC-AUC](https://developers.google.com/machine-learning/crash-course/classification/roc-and-auc)\n",
    "*   [Relationship between Precision-Recall and ROC Curves](https://www.biostat.wisc.edu/~page/rocpr.pdf)"
   ]
  },
  {
   "cell_type": "markdown",
   "metadata": {
    "id": "FYdhSAoaF_TK"
   },
   "source": [
    "## Baseline model"
   ]
  },
  {
   "cell_type": "markdown",
   "metadata": {
    "id": "IDbltVPg2m2q"
   },
   "source": [
    "### Build the model\n",
    "\n",
    "Now create and train your model using the function that was defined earlier. Notice that the model is fit using a larger than default batch size of 2048, this is important to ensure that each batch has a decent chance of containing a few positive samples. If the batch size was too small, they would likely have no fraudulent transactions to learn from.\n",
    "\n",
    "\n",
    "Note: this model will not handle the class imbalance well. You will improve it later in this tutorial."
   ]
  },
  {
   "cell_type": "code",
   "execution_count": 224,
   "metadata": {
    "id": "ouUkwPcGQsy3",
    "tags": []
   },
   "outputs": [],
   "source": [
    "EPOCHS = 50\n",
    "BATCH_SIZE = 2096\n",
    "\n",
    "early_stopping = tf.keras.callbacks.EarlyStopping(\n",
    "    monitor='auc', \n",
    "    verbose=2,\n",
    "    patience=10,\n",
    "    mode='max',\n",
    "    restore_best_weights=True)"
   ]
  },
  {
   "cell_type": "code",
   "execution_count": 225,
   "metadata": {
    "id": "1xlR_dekzw7C",
    "tags": []
   },
   "outputs": [
    {
     "name": "stdout",
     "output_type": "stream",
     "text": [
      "Model: \"sequential_45\"\n",
      "_________________________________________________________________\n",
      " Layer (type)                Output Shape              Param #   \n",
      "=================================================================\n",
      " dense_125 (Dense)           (None, 53)                2862      \n",
      "                                                                 \n",
      " dropout_80 (Dropout)        (None, 53)                0         \n",
      "                                                                 \n",
      " dense_126 (Dense)           (None, 1)                 54        \n",
      "                                                                 \n",
      "=================================================================\n",
      "Total params: 2,916\n",
      "Trainable params: 2,916\n",
      "Non-trainable params: 0\n",
      "_________________________________________________________________\n"
     ]
    }
   ],
   "source": [
    "model = make_model()\n",
    "model.summary()\n",
    "\n"
   ]
  },
  {
   "cell_type": "markdown",
   "metadata": {
    "id": "Wx7ND3_SqckO"
   },
   "source": [
    "Test run the model:"
   ]
  },
  {
   "cell_type": "code",
   "execution_count": 226,
   "metadata": {
    "id": "LopSd-yQqO3a",
    "tags": []
   },
   "outputs": [
    {
     "data": {
      "text/plain": [
       "array([[0.1569691],\n",
       "       [0.1569691],\n",
       "       [0.1569691],\n",
       "       [0.1569691],\n",
       "       [0.1569691],\n",
       "       [0.1569691],\n",
       "       [0.1569691],\n",
       "       [0.1569691],\n",
       "       [0.1569691],\n",
       "       [0.1569691]], dtype=float32)"
      ]
     },
     "execution_count": 226,
     "metadata": {},
     "output_type": "execute_result"
    }
   ],
   "source": [
    "model.predict(train_features[:10])"
   ]
  },
  {
   "cell_type": "markdown",
   "metadata": {
    "id": "YKIgWqHms_03"
   },
   "source": [
    "### Optional: Set the correct initial bias."
   ]
  },
  {
   "cell_type": "markdown",
   "metadata": {
    "id": "qk_3Ry6EoYDq"
   },
   "source": [
    "These initial guesses are not great. You know the dataset is imbalanced. Set the output layer's bias to reflect that (See: [A Recipe for Training Neural Networks: \"init well\"](http://karpathy.github.io/2019/04/25/recipe/#2-set-up-the-end-to-end-trainingevaluation-skeleton--get-dumb-baselines)). This can help with initial convergence."
   ]
  },
  {
   "cell_type": "markdown",
   "metadata": {
    "id": "PdbfWDuVpo6k"
   },
   "source": [
    "With the default bias initialization the loss should be about `math.log(2) = 0.69314` "
   ]
  },
  {
   "cell_type": "code",
   "execution_count": 227,
   "metadata": {
    "id": "H-oPqh3SoGXk",
    "tags": []
   },
   "outputs": [
    {
     "name": "stdout",
     "output_type": "stream",
     "text": [
      "66/66 [==============================] - 1s 4ms/step - loss: 0.2219 - tp: 0.0000e+00 - fp: 0.0000e+00 - tn: 132823.0000 - fn: 4175.0000 - accuracy: 0.9695 - precision: 0.0000e+00 - recall: 0.0000e+00 - auc: 0.5003 - prc: 0.0305\n",
      "Loss: 0.2219\n"
     ]
    }
   ],
   "source": [
    "results = model.evaluate(train_features, train_labels, batch_size=BATCH_SIZE, verbose=1)\n",
    "print(\"Loss: {:0.4f}\".format(results[0]))"
   ]
  },
  {
   "cell_type": "markdown",
   "metadata": {
    "id": "hE-JRzfKqfhB"
   },
   "source": [
    "The correct bias to set can be derived from:\n",
    "\n",
    "$$ p_0 = pos/(pos + neg) = 1/(1+e^{-b_0}) $$\n",
    "$$ b_0 = -log_e(1/p_0 - 1) $$\n",
    "$$ b_0 = log_e(pos/neg)$$"
   ]
  },
  {
   "cell_type": "code",
   "execution_count": 228,
   "metadata": {
    "id": "F5KWPSjjstUS",
    "tags": []
   },
   "outputs": [
    {
     "data": {
      "text/plain": [
       "array([-3.47407886])"
      ]
     },
     "execution_count": 228,
     "metadata": {},
     "output_type": "execute_result"
    }
   ],
   "source": [
    "initial_bias = np.log([pos/neg])\n",
    "initial_bias"
   ]
  },
  {
   "cell_type": "markdown",
   "metadata": {
    "id": "d1juXI9yY1KD"
   },
   "source": [
    "Set that as the initial bias, and the model will give much more reasonable initial guesses. \n",
    "\n",
    "It should be near: `pos/total = 0.0018`"
   ]
  },
  {
   "cell_type": "code",
   "execution_count": 229,
   "metadata": {
    "id": "50oyu1uss0i-",
    "tags": []
   },
   "outputs": [
    {
     "data": {
      "text/plain": [
       "array([[0.03005877],\n",
       "       [0.03005877],\n",
       "       [0.03005877],\n",
       "       [0.03005877],\n",
       "       [0.03005877],\n",
       "       [0.03005877],\n",
       "       [0.03005877],\n",
       "       [0.03005877],\n",
       "       [0.03005877],\n",
       "       [0.03005877]], dtype=float32)"
      ]
     },
     "execution_count": 229,
     "metadata": {},
     "output_type": "execute_result"
    }
   ],
   "source": [
    "model = make_model(output_bias=initial_bias)\n",
    "model.predict(train_features[:10])"
   ]
  },
  {
   "cell_type": "markdown",
   "metadata": {
    "id": "4xqFYb2KqRHQ"
   },
   "source": [
    "With this initialization the initial loss should be approximately:\n",
    "\n",
    "$$-p_0log(p_0)-(1-p_0)log(1-p_0) = 0.01317$$"
   ]
  },
  {
   "cell_type": "code",
   "execution_count": 230,
   "metadata": {
    "id": "xVDqCWXDqHSc",
    "tags": []
   },
   "outputs": [
    {
     "name": "stdout",
     "output_type": "stream",
     "text": [
      "66/66 [==============================] - 1s 7ms/step - loss: 0.1364 - tp: 0.0000e+00 - fp: 0.0000e+00 - tn: 265646.0000 - fn: 8350.0000 - accuracy: 0.9695 - precision: 0.0000e+00 - recall: 0.0000e+00 - auc: 0.5001 - prc: 0.0305\n",
      "Loss: 0.1364\n"
     ]
    }
   ],
   "source": [
    "results = model.evaluate(train_features, train_labels, batch_size=BATCH_SIZE, verbose=1)\n",
    "print(\"Loss: {:0.4f}\".format(results[0]))"
   ]
  },
  {
   "cell_type": "markdown",
   "metadata": {
    "id": "FrDC8hvNr9yw"
   },
   "source": [
    "This initial loss is about 50 times less than if would have been with naive initialization.\n",
    "\n",
    "This way the model doesn't need to spend the first few epochs just learning that positive examples are unlikely. This also makes it easier to read plots of the loss during training."
   ]
  },
  {
   "cell_type": "markdown",
   "metadata": {
    "id": "0EJj9ixKVBMT"
   },
   "source": [
    "### Checkpoint the initial weights\n",
    "\n",
    "To make the various training runs more comparable, keep this initial model's weights in a checkpoint file, and load them into each model before training:"
   ]
  },
  {
   "cell_type": "code",
   "execution_count": 232,
   "metadata": {
    "id": "_tSUm4yAVIif",
    "tags": []
   },
   "outputs": [],
   "source": [
    "initial_weights = os.path.join(tempfile.mkdtemp(), 'initial_weights')\n",
    "model.save_weights(initial_weights)"
   ]
  },
  {
   "cell_type": "markdown",
   "metadata": {
    "id": "EVXiLyqyZ8AX"
   },
   "source": [
    "### Confirm that the bias fix helps\n",
    "\n",
    "Before moving on, confirm quick that the careful bias initialization actually helped.\n",
    "\n",
    "Train the model for 20 epochs, with and without this careful initialization, and compare the losses: "
   ]
  },
  {
   "cell_type": "code",
   "execution_count": 125,
   "metadata": {
    "id": "Dm4-4K5RZ63Q",
    "tags": []
   },
   "outputs": [],
   "source": [
    "model = make_model()\n",
    "model.load_weights(initial_weights)\n",
    "model.layers[-1].bias.assign([0.0])\n",
    "zero_bias_history = model.fit(\n",
    "    train_features,\n",
    "    train_labels,\n",
    "    batch_size=BATCH_SIZE,\n",
    "    epochs=20,\n",
    "    validation_data=(val_features, val_labels), \n",
    "    verbose=0)"
   ]
  },
  {
   "cell_type": "code",
   "execution_count": 126,
   "metadata": {
    "id": "j8DsLXHQaSql",
    "tags": []
   },
   "outputs": [],
   "source": [
    "model = make_model()\n",
    "model.load_weights(initial_weights)\n",
    "careful_bias_history = model.fit(\n",
    "    train_features,\n",
    "    train_labels,\n",
    "    batch_size=BATCH_SIZE,\n",
    "    epochs=20,\n",
    "    validation_data=(val_features, val_labels), \n",
    "    verbose=0)"
   ]
  },
  {
   "cell_type": "code",
   "execution_count": 127,
   "metadata": {
    "id": "E3XsMBjhauFV",
    "tags": []
   },
   "outputs": [],
   "source": [
    "def plot_loss(history, label, n):\n",
    "  # Use a log scale on y-axis to show the wide range of values.\n",
    "  plt.semilogy(history.epoch, history.history['loss'],\n",
    "               color=colors[n], label='Train ' + label)\n",
    "  plt.semilogy(history.epoch, history.history['val_loss'],\n",
    "               color=colors[n], label='Val ' + label,\n",
    "               linestyle=\"--\")\n",
    "  plt.xlabel('Epoch')\n",
    "  plt.ylabel('Loss')"
   ]
  },
  {
   "cell_type": "code",
   "execution_count": 128,
   "metadata": {
    "id": "dxFaskm7beC7",
    "tags": []
   },
   "outputs": [
    {
     "data": {
      "image/png": "[encoded data removed]",
      "text/plain": [
       "<Figure size 864x720 with 1 Axes>"
      ]
     },
     "metadata": {
      "needs_background": "light"
     },
     "output_type": "display_data"
    }
   ],
   "source": [
    "plot_loss(zero_bias_history, \"Zero Bias\", 0)\n",
    "plot_loss(careful_bias_history, \"Careful Bias\", 1)"
   ]
  },
  {
   "cell_type": "markdown",
   "metadata": {
    "id": "fKMioV0ddG3R"
   },
   "source": [
    "The above figure makes it clear: In terms of validation loss, on this problem, this careful initialization gives a clear advantage. "
   ]
  },
  {
   "cell_type": "markdown",
   "metadata": {
    "id": "RsA_7SEntRaV"
   },
   "source": [
    "### Train the model"
   ]
  },
  {
   "cell_type": "code",
   "execution_count": 154,
   "metadata": {
    "id": "yZKAc8NCDnoR",
    "tags": []
   },
   "outputs": [
    {
     "name": "stdout",
     "output_type": "stream",
     "text": [
      "Epoch 1/100\n",
      "86/86 [==============================] - 16s 161ms/step - loss: 0.1358 - tp: 0.0000e+00 - fp: 0.0000e+00 - tn: 1020261.0000 - fn: 31881.0000 - accuracy: 0.9697 - precision: 0.0000e+00 - recall: 0.0000e+00 - auc: 0.5000 - prc: 0.0303 - val_loss: 0.1341 - val_tp: 0.0000e+00 - val_fp: 0.0000e+00 - val_tn: 85065.0000 - val_fn: 2614.0000 - val_accuracy: 0.9702 - val_precision: 0.0000e+00 - val_recall: 0.0000e+00 - val_auc: 0.5000 - val_prc: 0.0298\n",
      "Epoch 2/100\n",
      "86/86 [==============================] - 14s 160ms/step - loss: 0.1358 - tp: 0.0000e+00 - fp: 0.0000e+00 - tn: 340087.0000 - fn: 10627.0000 - accuracy: 0.9697 - precision: 0.0000e+00 - recall: 0.0000e+00 - auc: 0.5000 - prc: 0.0303 - val_loss: 0.1341 - val_tp: 0.0000e+00 - val_fp: 0.0000e+00 - val_tn: 85065.0000 - val_fn: 2614.0000 - val_accuracy: 0.9702 - val_precision: 0.0000e+00 - val_recall: 0.0000e+00 - val_auc: 0.5000 - val_prc: 0.0298\n",
      "Epoch 3/100\n",
      "86/86 [==============================] - 13s 157ms/step - loss: 0.1358 - tp: 0.0000e+00 - fp: 0.0000e+00 - tn: 340087.0000 - fn: 10627.0000 - accuracy: 0.9697 - precision: 0.0000e+00 - recall: 0.0000e+00 - auc: 0.5000 - prc: 0.0303 - val_loss: 0.1341 - val_tp: 0.0000e+00 - val_fp: 0.0000e+00 - val_tn: 85065.0000 - val_fn: 2614.0000 - val_accuracy: 0.9702 - val_precision: 0.0000e+00 - val_recall: 0.0000e+00 - val_auc: 0.5000 - val_prc: 0.0298\n",
      "Epoch 4/100\n",
      "86/86 [==============================] - 13s 151ms/step - loss: 0.1358 - tp: 0.0000e+00 - fp: 0.0000e+00 - tn: 340087.0000 - fn: 10627.0000 - accuracy: 0.9697 - precision: 0.0000e+00 - recall: 0.0000e+00 - auc: 0.4970 - prc: 0.0301 - val_loss: 0.1341 - val_tp: 0.0000e+00 - val_fp: 0.0000e+00 - val_tn: 85065.0000 - val_fn: 2614.0000 - val_accuracy: 0.9702 - val_precision: 0.0000e+00 - val_recall: 0.0000e+00 - val_auc: 0.5000 - val_prc: 0.0298\n",
      "Epoch 5/100\n",
      "86/86 [==============================] - 13s 155ms/step - loss: 0.1358 - tp: 0.0000e+00 - fp: 0.0000e+00 - tn: 340087.0000 - fn: 10627.0000 - accuracy: 0.9697 - precision: 0.0000e+00 - recall: 0.0000e+00 - auc: 0.4955 - prc: 0.0300 - val_loss: 0.1341 - val_tp: 0.0000e+00 - val_fp: 0.0000e+00 - val_tn: 85065.0000 - val_fn: 2614.0000 - val_accuracy: 0.9702 - val_precision: 0.0000e+00 - val_recall: 0.0000e+00 - val_auc: 0.5000 - val_prc: 0.0298\n",
      "Epoch 6/100\n",
      "86/86 [==============================] - 14s 157ms/step - loss: 0.1358 - tp: 0.0000e+00 - fp: 0.0000e+00 - tn: 340087.0000 - fn: 10627.0000 - accuracy: 0.9697 - precision: 0.0000e+00 - recall: 0.0000e+00 - auc: 0.5000 - prc: 0.0303 - val_loss: 0.1341 - val_tp: 0.0000e+00 - val_fp: 0.0000e+00 - val_tn: 85065.0000 - val_fn: 2614.0000 - val_accuracy: 0.9702 - val_precision: 0.0000e+00 - val_recall: 0.0000e+00 - val_auc: 0.5000 - val_prc: 0.0298\n",
      "Epoch 7/100\n",
      "86/86 [==============================] - 13s 151ms/step - loss: 0.1358 - tp: 0.0000e+00 - fp: 0.0000e+00 - tn: 340087.0000 - fn: 10627.0000 - accuracy: 0.9697 - precision: 0.0000e+00 - recall: 0.0000e+00 - auc: 0.5000 - prc: 0.0303 - val_loss: 0.1341 - val_tp: 0.0000e+00 - val_fp: 0.0000e+00 - val_tn: 85065.0000 - val_fn: 2614.0000 - val_accuracy: 0.9702 - val_precision: 0.0000e+00 - val_recall: 0.0000e+00 - val_auc: 0.5000 - val_prc: 0.0298\n",
      "Epoch 8/100\n",
      "86/86 [==============================] - 14s 164ms/step - loss: 0.1358 - tp: 0.0000e+00 - fp: 0.0000e+00 - tn: 340087.0000 - fn: 10627.0000 - accuracy: 0.9697 - precision: 0.0000e+00 - recall: 0.0000e+00 - auc: 0.5000 - prc: 0.0303 - val_loss: 0.1341 - val_tp: 0.0000e+00 - val_fp: 0.0000e+00 - val_tn: 85065.0000 - val_fn: 2614.0000 - val_accuracy: 0.9702 - val_precision: 0.0000e+00 - val_recall: 0.0000e+00 - val_auc: 0.5000 - val_prc: 0.0298\n",
      "Epoch 9/100\n",
      "86/86 [==============================] - 13s 151ms/step - loss: 0.1358 - tp: 0.0000e+00 - fp: 0.0000e+00 - tn: 340087.0000 - fn: 10627.0000 - accuracy: 0.9697 - precision: 0.0000e+00 - recall: 0.0000e+00 - auc: 0.5000 - prc: 0.0303 - val_loss: 0.1341 - val_tp: 0.0000e+00 - val_fp: 0.0000e+00 - val_tn: 85065.0000 - val_fn: 2614.0000 - val_accuracy: 0.9702 - val_precision: 0.0000e+00 - val_recall: 0.0000e+00 - val_auc: 0.5000 - val_prc: 0.0298\n",
      "Epoch 10/100\n",
      "86/86 [==============================] - 14s 157ms/step - loss: 0.1358 - tp: 0.0000e+00 - fp: 0.0000e+00 - tn: 340087.0000 - fn: 10627.0000 - accuracy: 0.9697 - precision: 0.0000e+00 - recall: 0.0000e+00 - auc: 0.5000 - prc: 0.0303 - val_loss: 0.1341 - val_tp: 0.0000e+00 - val_fp: 0.0000e+00 - val_tn: 85065.0000 - val_fn: 2614.0000 - val_accuracy: 0.9702 - val_precision: 0.0000e+00 - val_recall: 0.0000e+00 - val_auc: 0.5000 - val_prc: 0.0298\n",
      "Epoch 11/100\n",
      "86/86 [==============================] - 14s 168ms/step - loss: 0.1358 - tp: 0.0000e+00 - fp: 0.0000e+00 - tn: 340087.0000 - fn: 10627.0000 - accuracy: 0.9697 - precision: 0.0000e+00 - recall: 0.0000e+00 - auc: 0.5000 - prc: 0.0303 - val_loss: 0.1341 - val_tp: 0.0000e+00 - val_fp: 0.0000e+00 - val_tn: 85065.0000 - val_fn: 2614.0000 - val_accuracy: 0.9702 - val_precision: 0.0000e+00 - val_recall: 0.0000e+00 - val_auc: 0.5000 - val_prc: 0.0298\n",
      "Epoch 12/100\n",
      "86/86 [==============================] - 14s 160ms/step - loss: 0.1358 - tp: 0.0000e+00 - fp: 0.0000e+00 - tn: 340087.0000 - fn: 10627.0000 - accuracy: 0.9697 - precision: 0.0000e+00 - recall: 0.0000e+00 - auc: 0.5000 - prc: 0.0303 - val_loss: 0.1341 - val_tp: 0.0000e+00 - val_fp: 0.0000e+00 - val_tn: 85065.0000 - val_fn: 2614.0000 - val_accuracy: 0.9702 - val_precision: 0.0000e+00 - val_recall: 0.0000e+00 - val_auc: 0.5000 - val_prc: 0.0298\n",
      "Epoch 13/100\n",
      "86/86 [==============================] - 14s 160ms/step - loss: 0.1358 - tp: 0.0000e+00 - fp: 0.0000e+00 - tn: 340087.0000 - fn: 10627.0000 - accuracy: 0.9697 - precision: 0.0000e+00 - recall: 0.0000e+00 - auc: 0.5000 - prc: 0.0303 - val_loss: 0.1341 - val_tp: 0.0000e+00 - val_fp: 0.0000e+00 - val_tn: 85065.0000 - val_fn: 2614.0000 - val_accuracy: 0.9702 - val_precision: 0.0000e+00 - val_recall: 0.0000e+00 - val_auc: 0.5000 - val_prc: 0.0298\n",
      "Epoch 14/100\n",
      "86/86 [==============================] - 14s 165ms/step - loss: 0.1358 - tp: 0.0000e+00 - fp: 0.0000e+00 - tn: 340087.0000 - fn: 10627.0000 - accuracy: 0.9697 - precision: 0.0000e+00 - recall: 0.0000e+00 - auc: 0.5000 - prc: 0.0303 - val_loss: 0.1341 - val_tp: 0.0000e+00 - val_fp: 0.0000e+00 - val_tn: 85065.0000 - val_fn: 2614.0000 - val_accuracy: 0.9702 - val_precision: 0.0000e+00 - val_recall: 0.0000e+00 - val_auc: 0.5000 - val_prc: 0.0298\n",
      "Epoch 15/100\n",
      "86/86 [==============================] - 13s 154ms/step - loss: 0.1358 - tp: 0.0000e+00 - fp: 0.0000e+00 - tn: 340087.0000 - fn: 10627.0000 - accuracy: 0.9697 - precision: 0.0000e+00 - recall: 0.0000e+00 - auc: 0.5000 - prc: 0.0303 - val_loss: 0.1341 - val_tp: 0.0000e+00 - val_fp: 0.0000e+00 - val_tn: 85065.0000 - val_fn: 2614.0000 - val_accuracy: 0.9702 - val_precision: 0.0000e+00 - val_recall: 0.0000e+00 - val_auc: 0.5000 - val_prc: 0.0298\n",
      "Epoch 16/100\n",
      "86/86 [==============================] - 13s 155ms/step - loss: 0.1358 - tp: 0.0000e+00 - fp: 0.0000e+00 - tn: 340087.0000 - fn: 10627.0000 - accuracy: 0.9697 - precision: 0.0000e+00 - recall: 0.0000e+00 - auc: 0.5000 - prc: 0.0303 - val_loss: 0.1341 - val_tp: 0.0000e+00 - val_fp: 0.0000e+00 - val_tn: 85065.0000 - val_fn: 2614.0000 - val_accuracy: 0.9702 - val_precision: 0.0000e+00 - val_recall: 0.0000e+00 - val_auc: 0.5000 - val_prc: 0.0298\n",
      "Epoch 17/100\n",
      "86/86 [==============================] - 14s 165ms/step - loss: 0.1358 - tp: 0.0000e+00 - fp: 0.0000e+00 - tn: 340087.0000 - fn: 10627.0000 - accuracy: 0.9697 - precision: 0.0000e+00 - recall: 0.0000e+00 - auc: 0.5000 - prc: 0.0303 - val_loss: 0.1341 - val_tp: 0.0000e+00 - val_fp: 0.0000e+00 - val_tn: 85065.0000 - val_fn: 2614.0000 - val_accuracy: 0.9702 - val_precision: 0.0000e+00 - val_recall: 0.0000e+00 - val_auc: 0.5000 - val_prc: 0.0298\n",
      "Epoch 18/100\n",
      "86/86 [==============================] - 14s 158ms/step - loss: 0.1358 - tp: 0.0000e+00 - fp: 0.0000e+00 - tn: 340087.0000 - fn: 10627.0000 - accuracy: 0.9697 - precision: 0.0000e+00 - recall: 0.0000e+00 - auc: 0.5000 - prc: 0.0303 - val_loss: 0.1341 - val_tp: 0.0000e+00 - val_fp: 0.0000e+00 - val_tn: 85065.0000 - val_fn: 2614.0000 - val_accuracy: 0.9702 - val_precision: 0.0000e+00 - val_recall: 0.0000e+00 - val_auc: 0.5000 - val_prc: 0.0298\n",
      "Epoch 19/100\n",
      "86/86 [==============================] - ETA: 0s - loss: 0.1358 - tp: 0.0000e+00 - fp: 0.0000e+00 - tn: 340087.0000 - fn: 10627.0000 - accuracy: 0.9697 - precision: 0.0000e+00 - recall: 0.0000e+00 - auc: 0.5000 - prc: 0.0303Restoring model weights from the end of the best epoch: 16.\n",
      "86/86 [==============================] - 14s 160ms/step - loss: 0.1358 - tp: 0.0000e+00 - fp: 0.0000e+00 - tn: 340087.0000 - fn: 10627.0000 - accuracy: 0.9697 - precision: 0.0000e+00 - recall: 0.0000e+00 - auc: 0.5000 - prc: 0.0303 - val_loss: 0.1341 - val_tp: 0.0000e+00 - val_fp: 0.0000e+00 - val_tn: 85065.0000 - val_fn: 2614.0000 - val_accuracy: 0.9702 - val_precision: 0.0000e+00 - val_recall: 0.0000e+00 - val_auc: 0.5000 - val_prc: 0.0298\n",
      "Epoch 19: early stopping\n"
     ]
    }
   ],
   "source": [
    "model = make_model()\n",
    "model.load_weights(initial_weights)\n",
    "baseline_history = model.fit(\n",
    "    train_features,\n",
    "    train_labels,\n",
    "    batch_size=BATCH_SIZE,\n",
    "    epochs=EPOCHS,\n",
    "    callbacks=[early_stopping],\n",
    "    validation_data=(val_features, val_labels))"
   ]
  },
  {
   "cell_type": "markdown",
   "metadata": {
    "id": "iSaDBYU9xtP6"
   },
   "source": [
    "### Check training history\n",
    "\n",
    "In this section, you will produce plots of your model's accuracy and loss on the training and validation set. These are useful to check for overfitting, which you can learn more about in the [Overfit and underfit](https://www.tensorflow.org/tutorials/keras/overfit_and_underfit) tutorial.\n",
    "\n",
    "Additionally, you can produce these plots for any of the metrics you created above. False negatives are included as an example."
   ]
  },
  {
   "cell_type": "code",
   "execution_count": 139,
   "metadata": {
    "id": "WTSkhT1jyGu6",
    "tags": []
   },
   "outputs": [],
   "source": [
    "def plot_metrics(history):\n",
    "  metrics = ['loss', 'prc', 'precision', 'recall']\n",
    "  for n, metric in enumerate(metrics):\n",
    "    name = metric.replace(\"_\",\" \").capitalize()\n",
    "    plt.subplot(2,2,n+1)\n",
    "    plt.plot(history.epoch, history.history[metric], color=colors[0], label='Train')\n",
    "    plt.plot(history.epoch, history.history['val_'+metric],\n",
    "             color=colors[0], linestyle=\"--\", label='Val')\n",
    "    plt.xlabel('Epoch')\n",
    "    plt.ylabel(name)\n",
    "    if metric == 'loss':\n",
    "      plt.ylim([0, plt.ylim()[1]])\n",
    "    elif metric == 'auc':\n",
    "      plt.ylim([0.8,1])\n",
    "    else:\n",
    "      plt.ylim([0,1])\n",
    "\n",
    "    plt.legend();"
   ]
  },
  {
   "cell_type": "code",
   "execution_count": 140,
   "metadata": {
    "id": "u6LReDsqlZlk",
    "tags": []
   },
   "outputs": [
    {
     "data": {
      "image/png": "[encoded data removed]",
      "text/plain": [
       "<Figure size 864x720 with 4 Axes>"
      ]
     },
     "metadata": {
      "needs_background": "light"
     },
     "output_type": "display_data"
    }
   ],
   "source": [
    "plot_metrics(baseline_history)"
   ]
  },
  {
   "cell_type": "markdown",
   "metadata": {
    "id": "UCa4iWo6WDKR"
   },
   "source": [
    "Note: That the validation curve generally performs better than the training curve. This is mainly caused by the fact that the dropout layer is not active when evaluating the model."
   ]
  },
  {
   "cell_type": "markdown",
   "metadata": {
    "id": "aJC1booryouo"
   },
   "source": [
    "### Evaluate metrics\n",
    "\n",
    "You can use a [confusion matrix](https://developers.google.com/machine-learning/glossary/#confusion_matrix) to summarize the actual vs. predicted labels, where the X axis is the predicted label and the Y axis is the actual label:"
   ]
  },
  {
   "cell_type": "code",
   "execution_count": 141,
   "metadata": {
    "id": "aNS796IJKrev",
    "tags": []
   },
   "outputs": [],
   "source": [
    "train_predictions_baseline = model.predict(train_features, batch_size=BATCH_SIZE)\n",
    "test_predictions_baseline = model.predict(test_features, batch_size=BATCH_SIZE)"
   ]
  },
  {
   "cell_type": "code",
   "execution_count": 142,
   "metadata": {
    "id": "MVWBGfADwbWI",
    "tags": []
   },
   "outputs": [],
   "source": [
    "def plot_cm(labels, predictions, p=0.5):\n",
    "  cm = confusion_matrix(labels, predictions > p)\n",
    "  plt.figure(figsize=(5,5))\n",
    "  sns.heatmap(cm, annot=True, fmt=\"d\")\n",
    "  plt.title('Confusion matrix @{:.2f}'.format(p))\n",
    "  plt.ylabel('Actual label')\n",
    "  plt.xlabel('Predicted label')\n",
    "\n",
    "  print('Legitimate Transactions Detected (True Negatives): ', cm[0][0])\n",
    "  print('Legitimate Transactions Incorrectly Detected (False Positives): ', cm[0][1])\n",
    "  print('Fraudulent Transactions Missed (False Negatives): ', cm[1][0])\n",
    "  print('Fraudulent Transactions Detected (True Positives): ', cm[1][1])\n",
    "  print('Total Fraudulent Transactions: ', np.sum(cm[1]))"
   ]
  },
  {
   "cell_type": "markdown",
   "metadata": {
    "id": "nOTjD5Z5Wp1U"
   },
   "source": [
    "Evaluate your model on the test dataset and display the results for the metrics you created above:"
   ]
  },
  {
   "cell_type": "code",
   "execution_count": 143,
   "metadata": {
    "id": "poh_hZngt2_9",
    "tags": []
   },
   "outputs": [
    {
     "name": "stdout",
     "output_type": "stream",
     "text": [
      "loss :  0.13294346630573273\n",
      "tp :  0.0\n",
      "fp :  0.0\n",
      "tn :  106368.0\n",
      "fn :  3231.0\n",
      "accuracy :  0.9705197811126709\n",
      "precision :  0.0\n",
      "recall :  0.0\n",
      "auc :  0.5\n",
      "prc :  0.02948019839823246\n",
      "\n",
      "Legitimate Transactions Detected (True Negatives):  106368\n",
      "Legitimate Transactions Incorrectly Detected (False Positives):  0\n",
      "Fraudulent Transactions Missed (False Negatives):  3231\n",
      "Fraudulent Transactions Detected (True Positives):  0\n",
      "Total Fraudulent Transactions:  3231\n"
     ]
    },
    {
     "data": {
      "image/png": "[encoded data removed]",
      "text/plain": [
       "<Figure size 360x360 with 2 Axes>"
      ]
     },
     "metadata": {
      "needs_background": "light"
     },
     "output_type": "display_data"
    }
   ],
   "source": [
    "baseline_results = model.evaluate(test_features, test_labels,\n",
    "                                  batch_size=BATCH_SIZE, verbose=0)\n",
    "for name, value in zip(model.metrics_names, baseline_results):\n",
    "  print(name, ': ', value)\n",
    "print()\n",
    "\n",
    "plot_cm(test_labels, test_predictions_baseline)"
   ]
  },
  {
   "cell_type": "markdown",
   "metadata": {
    "id": "PyZtSr1v6L4t"
   },
   "source": [
    "If the model had predicted everything perfectly, this would be a [diagonal matrix](https://en.wikipedia.org/wiki/Diagonal_matrix) where values off the main diagonal, indicating incorrect predictions, would be zero. In this case the matrix shows that you have relatively few false positives, meaning that there were relatively few legitimate transactions that were incorrectly flagged. However, you would likely want to have even fewer false negatives despite the cost of increasing the number of false positives. This trade off may be preferable because false negatives would allow fraudulent transactions to go through, whereas false positives may cause an email to be sent to a customer to ask them to verify their card activity."
   ]
  },
  {
   "cell_type": "markdown",
   "metadata": {
    "id": "P-QpQsip_F2Q"
   },
   "source": [
    "### Plot the ROC\n",
    "\n",
    "Now plot the [ROC](https://developers.google.com/machine-learning/glossary#ROC). This plot is useful because it shows, at a glance, the range of performance the model can reach just by tuning the output threshold."
   ]
  },
  {
   "cell_type": "code",
   "execution_count": 49,
   "metadata": {
    "id": "lhaxsLSvANF9",
    "tags": []
   },
   "outputs": [],
   "source": [
    "def plot_roc(name, labels, predictions, **kwargs):\n",
    "  fp, tp, _ = sklearn.metrics.roc_curve(labels, predictions)\n",
    "\n",
    "  plt.plot(100*fp, 100*tp, label=name, linewidth=2, **kwargs)\n",
    "  plt.xlabel('False positives [%]')\n",
    "  plt.ylabel('True positives [%]')\n",
    "  plt.xlim([-0.5,20])\n",
    "  plt.ylim([80,100.5])\n",
    "  plt.grid(True)\n",
    "  ax = plt.gca()\n",
    "  ax.set_aspect('equal')"
   ]
  },
  {
   "cell_type": "code",
   "execution_count": 50,
   "metadata": {
    "id": "DfHHspttKJE0",
    "tags": []
   },
   "outputs": [
    {
     "data": {
      "image/png": "[encoded data removed]",
      "text/plain": [
       "<Figure size 864x720 with 1 Axes>"
      ]
     },
     "metadata": {
      "needs_background": "light"
     },
     "output_type": "display_data"
    }
   ],
   "source": [
    "plot_roc(\"Train Baseline\", train_labels, train_predictions_baseline, color=colors[0])\n",
    "plot_roc(\"Test Baseline\", test_labels, test_predictions_baseline, color=colors[0], linestyle='--')\n",
    "plt.legend(loc='lower right');"
   ]
  },
  {
   "cell_type": "markdown",
   "metadata": {
    "id": "Y5twGRLfNwmO"
   },
   "source": [
    "### Plot the AUPRC\n",
    "\n",
    "Now plot the [AUPRC](https://developers.google.com/machine-learning/glossary?hl=en#PR_AUC). Area under the interpolated precision-recall curve, obtained by plotting (recall, precision) points for different values of the classification threshold. Depending on how it's calculated, PR AUC may be equivalent to the average precision of the model.\n"
   ]
  },
  {
   "cell_type": "code",
   "execution_count": 51,
   "metadata": {
    "id": "XV6JSlFGEqGI",
    "tags": []
   },
   "outputs": [],
   "source": [
    "def plot_prc(name, labels, predictions, **kwargs):\n",
    "    precision, recall, _ = sklearn.metrics.precision_recall_curve(labels, predictions)\n",
    "\n",
    "    plt.plot(precision, recall, label=name, linewidth=2, **kwargs)\n",
    "    plt.xlabel('Precision')\n",
    "    plt.ylabel('Recall')\n",
    "    plt.grid(True)\n",
    "    ax = plt.gca()\n",
    "    ax.set_aspect('equal')"
   ]
  },
  {
   "cell_type": "code",
   "execution_count": 52,
   "metadata": {
    "id": "FdQs_PcqEsiL",
    "tags": []
   },
   "outputs": [
    {
     "data": {
      "image/png": "[encoded data removed]",
      "text/plain": [
       "<Figure size 864x720 with 1 Axes>"
      ]
     },
     "metadata": {
      "needs_background": "light"
     },
     "output_type": "display_data"
    }
   ],
   "source": [
    "plot_prc(\"Train Baseline\", train_labels, train_predictions_baseline, color=colors[0])\n",
    "plot_prc(\"Test Baseline\", test_labels, test_predictions_baseline, color=colors[0], linestyle='--')\n",
    "plt.legend(loc='lower right');"
   ]
  },
  {
   "cell_type": "markdown",
   "metadata": {
    "id": "gpdsFyp64DhY"
   },
   "source": [
    "It looks like the precision is relatively high, but the recall and the area under the ROC curve (AUC) aren't as high as you might like. Classifiers often face challenges when trying to maximize both precision and recall, which is especially true when working with imbalanced datasets. It is important to consider the costs of different types of errors in the context of the problem you care about. In this example, a false negative (a fraudulent transaction is missed) may have a financial cost, while a false positive (a transaction is incorrectly flagged as fraudulent) may decrease user happiness."
   ]
  },
  {
   "cell_type": "markdown",
   "metadata": {
    "id": "cveQoiMyGQCo"
   },
   "source": [
    "## Class weights"
   ]
  },
  {
   "cell_type": "markdown",
   "metadata": {
    "id": "ePGp6GUE1WfH"
   },
   "source": [
    "### Calculate class weights\n",
    "\n",
    "The goal is to identify fraudulent transactions, but you don't have very many of those positive samples to work with, so you would want to have the classifier heavily weight the few examples that are available. You can do this by passing Keras weights for each class through a parameter. These will cause the model to \"pay more attention\" to examples from an under-represented class."
   ]
  },
  {
   "cell_type": "code",
   "execution_count": 233,
   "metadata": {
    "id": "qjGWErngGny7",
    "tags": []
   },
   "outputs": [
    {
     "name": "stdout",
     "output_type": "stream",
     "text": [
      "Weight for class 0: 0.52\n",
      "Weight for class 1: 16.63\n"
     ]
    }
   ],
   "source": [
    "# Scaling by total/2 helps keep the loss to a similar magnitude.\n",
    "# The sum of the weights of all examples stays the same.\n",
    "weight_for_0 = (1 / neg) * (total / 2.0)\n",
    "weight_for_1 = (1 / pos) * (total / 2.0)\n",
    "\n",
    "class_weight = {0: weight_for_0, 1: weight_for_1}\n",
    "\n",
    "print('Weight for class 0: {:.2f}'.format(weight_for_0))\n",
    "print('Weight for class 1: {:.2f}'.format(weight_for_1))"
   ]
  },
  {
   "cell_type": "markdown",
   "metadata": {
    "id": "Mk1OOE2ZSHzy"
   },
   "source": [
    "### Train a model with class weights\n",
    "\n",
    "Now try re-training and evaluating the model with class weights to see how that affects the predictions.\n",
    "\n",
    "Note: Using `class_weights` changes the range of the loss. This may affect the stability of the training depending on the optimizer. Optimizers whose step size is dependent on the magnitude of the gradient, like `tf.keras.optimizers.SGD`, may fail. The optimizer used here, `tf.keras.optimizers.Adam`, is unaffected by the scaling change. Also note that because of the weighting, the total losses are not comparable between the two models."
   ]
  },
  {
   "cell_type": "code",
   "execution_count": 234,
   "metadata": {
    "id": "UJ589fn8ST3x",
    "tags": []
   },
   "outputs": [
    {
     "name": "stdout",
     "output_type": "stream",
     "text": [
      "Epoch 1/50\n",
      "66/66 [==============================] - 4s 37ms/step - loss: 1.7764 - tp: 0.0000e+00 - fp: 0.0000e+00 - tn: 398469.0000 - fn: 12525.0000 - accuracy: 0.9695 - precision: 0.0000e+00 - recall: 0.0000e+00 - auc: 0.5004 - prc: 0.0305 - val_loss: 0.1355 - val_tp: 0.0000e+00 - val_fp: 0.0000e+00 - val_tn: 132862.0000 - val_fn: 4136.0000 - val_accuracy: 0.9698 - val_precision: 0.0000e+00 - val_recall: 0.0000e+00 - val_auc: 0.5000 - val_prc: 0.0302\n",
      "Epoch 2/50\n",
      "66/66 [==============================] - 1s 20ms/step - loss: 1.7454 - tp: 0.0000e+00 - fp: 0.0000e+00 - tn: 132823.0000 - fn: 4175.0000 - accuracy: 0.9695 - precision: 0.0000e+00 - recall: 0.0000e+00 - auc: 0.5000 - prc: 0.0305 - val_loss: 0.1356 - val_tp: 0.0000e+00 - val_fp: 0.0000e+00 - val_tn: 132862.0000 - val_fn: 4136.0000 - val_accuracy: 0.9698 - val_precision: 0.0000e+00 - val_recall: 0.0000e+00 - val_auc: 0.5000 - val_prc: 0.0302\n",
      "Epoch 3/50\n",
      "66/66 [==============================] - 2s 26ms/step - loss: 1.7147 - tp: 0.0000e+00 - fp: 0.0000e+00 - tn: 132823.0000 - fn: 4175.0000 - accuracy: 0.9695 - precision: 0.0000e+00 - recall: 0.0000e+00 - auc: 0.5023 - prc: 0.0307 - val_loss: 0.1360 - val_tp: 0.0000e+00 - val_fp: 0.0000e+00 - val_tn: 132862.0000 - val_fn: 4136.0000 - val_accuracy: 0.9698 - val_precision: 0.0000e+00 - val_recall: 0.0000e+00 - val_auc: 0.5000 - val_prc: 0.0302\n",
      "Epoch 4/50\n",
      "66/66 [==============================] - 1s 20ms/step - loss: 1.6840 - tp: 0.0000e+00 - fp: 0.0000e+00 - tn: 132823.0000 - fn: 4175.0000 - accuracy: 0.9695 - precision: 0.0000e+00 - recall: 0.0000e+00 - auc: 0.5000 - prc: 0.0305 - val_loss: 0.1364 - val_tp: 0.0000e+00 - val_fp: 0.0000e+00 - val_tn: 132862.0000 - val_fn: 4136.0000 - val_accuracy: 0.9698 - val_precision: 0.0000e+00 - val_recall: 0.0000e+00 - val_auc: 0.5000 - val_prc: 0.0302\n",
      "Epoch 5/50\n",
      "66/66 [==============================] - 1s 20ms/step - loss: 1.6537 - tp: 0.0000e+00 - fp: 0.0000e+00 - tn: 132823.0000 - fn: 4175.0000 - accuracy: 0.9695 - precision: 0.0000e+00 - recall: 0.0000e+00 - auc: 0.4955 - prc: 0.0301 - val_loss: 0.1371 - val_tp: 0.0000e+00 - val_fp: 0.0000e+00 - val_tn: 132862.0000 - val_fn: 4136.0000 - val_accuracy: 0.9698 - val_precision: 0.0000e+00 - val_recall: 0.0000e+00 - val_auc: 0.5000 - val_prc: 0.0302\n",
      "Epoch 6/50\n",
      "66/66 [==============================] - 1s 18ms/step - loss: 1.6236 - tp: 0.0000e+00 - fp: 0.0000e+00 - tn: 132823.0000 - fn: 4175.0000 - accuracy: 0.9695 - precision: 0.0000e+00 - recall: 0.0000e+00 - auc: 0.5000 - prc: 0.0305 - val_loss: 0.1379 - val_tp: 0.0000e+00 - val_fp: 0.0000e+00 - val_tn: 132862.0000 - val_fn: 4136.0000 - val_accuracy: 0.9698 - val_precision: 0.0000e+00 - val_recall: 0.0000e+00 - val_auc: 0.5000 - val_prc: 0.0302\n",
      "Epoch 7/50\n",
      "66/66 [==============================] - 2s 28ms/step - loss: 1.5937 - tp: 0.0000e+00 - fp: 0.0000e+00 - tn: 132823.0000 - fn: 4175.0000 - accuracy: 0.9695 - precision: 0.0000e+00 - recall: 0.0000e+00 - auc: 0.4995 - prc: 0.0304 - val_loss: 0.1388 - val_tp: 0.0000e+00 - val_fp: 0.0000e+00 - val_tn: 132862.0000 - val_fn: 4136.0000 - val_accuracy: 0.9698 - val_precision: 0.0000e+00 - val_recall: 0.0000e+00 - val_auc: 0.5000 - val_prc: 0.0302\n",
      "Epoch 8/50\n",
      "66/66 [==============================] - 1s 20ms/step - loss: 1.5641 - tp: 0.0000e+00 - fp: 0.0000e+00 - tn: 132823.0000 - fn: 4175.0000 - accuracy: 0.9695 - precision: 0.0000e+00 - recall: 0.0000e+00 - auc: 0.5000 - prc: 0.0305 - val_loss: 0.1400 - val_tp: 0.0000e+00 - val_fp: 0.0000e+00 - val_tn: 132862.0000 - val_fn: 4136.0000 - val_accuracy: 0.9698 - val_precision: 0.0000e+00 - val_recall: 0.0000e+00 - val_auc: 0.5000 - val_prc: 0.0302\n",
      "Epoch 9/50\n",
      "66/66 [==============================] - 1s 22ms/step - loss: 1.5347 - tp: 0.0000e+00 - fp: 0.0000e+00 - tn: 132823.0000 - fn: 4175.0000 - accuracy: 0.9695 - precision: 0.0000e+00 - recall: 0.0000e+00 - auc: 0.5048 - prc: 0.0308 - val_loss: 0.1413 - val_tp: 0.0000e+00 - val_fp: 0.0000e+00 - val_tn: 132862.0000 - val_fn: 4136.0000 - val_accuracy: 0.9698 - val_precision: 0.0000e+00 - val_recall: 0.0000e+00 - val_auc: 0.5000 - val_prc: 0.0302\n",
      "Epoch 10/50\n",
      "66/66 [==============================] - 1s 21ms/step - loss: 1.5058 - tp: 0.0000e+00 - fp: 0.0000e+00 - tn: 132823.0000 - fn: 4175.0000 - accuracy: 0.9695 - precision: 0.0000e+00 - recall: 0.0000e+00 - auc: 0.5016 - prc: 0.0307 - val_loss: 0.1429 - val_tp: 0.0000e+00 - val_fp: 0.0000e+00 - val_tn: 132862.0000 - val_fn: 4136.0000 - val_accuracy: 0.9698 - val_precision: 0.0000e+00 - val_recall: 0.0000e+00 - val_auc: 0.5000 - val_prc: 0.0302\n",
      "Epoch 11/50\n",
      "66/66 [==============================] - 1s 21ms/step - loss: 1.4770 - tp: 0.0000e+00 - fp: 0.0000e+00 - tn: 132823.0000 - fn: 4175.0000 - accuracy: 0.9695 - precision: 0.0000e+00 - recall: 0.0000e+00 - auc: 0.5000 - prc: 0.0305 - val_loss: 0.1446 - val_tp: 0.0000e+00 - val_fp: 0.0000e+00 - val_tn: 132862.0000 - val_fn: 4136.0000 - val_accuracy: 0.9698 - val_precision: 0.0000e+00 - val_recall: 0.0000e+00 - val_auc: 0.5000 - val_prc: 0.0302\n",
      "Epoch 12/50\n",
      "66/66 [==============================] - 2s 23ms/step - loss: 1.4486 - tp: 0.0000e+00 - fp: 0.0000e+00 - tn: 132823.0000 - fn: 4175.0000 - accuracy: 0.9695 - precision: 0.0000e+00 - recall: 0.0000e+00 - auc: 0.4981 - prc: 0.0303 - val_loss: 0.1466 - val_tp: 0.0000e+00 - val_fp: 0.0000e+00 - val_tn: 132862.0000 - val_fn: 4136.0000 - val_accuracy: 0.9698 - val_precision: 0.0000e+00 - val_recall: 0.0000e+00 - val_auc: 0.5000 - val_prc: 0.0302\n",
      "Epoch 13/50\n",
      "66/66 [==============================] - 2s 25ms/step - loss: 1.4206 - tp: 0.0000e+00 - fp: 0.0000e+00 - tn: 132823.0000 - fn: 4175.0000 - accuracy: 0.9695 - precision: 0.0000e+00 - recall: 0.0000e+00 - auc: 0.5016 - prc: 0.0306 - val_loss: 0.1487 - val_tp: 0.0000e+00 - val_fp: 0.0000e+00 - val_tn: 132862.0000 - val_fn: 4136.0000 - val_accuracy: 0.9698 - val_precision: 0.0000e+00 - val_recall: 0.0000e+00 - val_auc: 0.5000 - val_prc: 0.0302\n",
      "Epoch 14/50\n",
      "66/66 [==============================] - 1s 18ms/step - loss: 1.3929 - tp: 0.0000e+00 - fp: 0.0000e+00 - tn: 132823.0000 - fn: 4175.0000 - accuracy: 0.9695 - precision: 0.0000e+00 - recall: 0.0000e+00 - auc: 0.4971 - prc: 0.0300 - val_loss: 0.1512 - val_tp: 0.0000e+00 - val_fp: 0.0000e+00 - val_tn: 132862.0000 - val_fn: 4136.0000 - val_accuracy: 0.9698 - val_precision: 0.0000e+00 - val_recall: 0.0000e+00 - val_auc: 0.5000 - val_prc: 0.0302\n",
      "Epoch 15/50\n",
      "66/66 [==============================] - 1s 19ms/step - loss: 1.3655 - tp: 0.0000e+00 - fp: 0.0000e+00 - tn: 132823.0000 - fn: 4175.0000 - accuracy: 0.9695 - precision: 0.0000e+00 - recall: 0.0000e+00 - auc: 0.5000 - prc: 0.0305 - val_loss: 0.1538 - val_tp: 0.0000e+00 - val_fp: 0.0000e+00 - val_tn: 132862.0000 - val_fn: 4136.0000 - val_accuracy: 0.9698 - val_precision: 0.0000e+00 - val_recall: 0.0000e+00 - val_auc: 0.5000 - val_prc: 0.0302\n",
      "Epoch 16/50\n",
      "66/66 [==============================] - 1s 19ms/step - loss: 1.3386 - tp: 0.0000e+00 - fp: 0.0000e+00 - tn: 132823.0000 - fn: 4175.0000 - accuracy: 0.9695 - precision: 0.0000e+00 - recall: 0.0000e+00 - auc: 0.4963 - prc: 0.0303 - val_loss: 0.1568 - val_tp: 0.0000e+00 - val_fp: 0.0000e+00 - val_tn: 132862.0000 - val_fn: 4136.0000 - val_accuracy: 0.9698 - val_precision: 0.0000e+00 - val_recall: 0.0000e+00 - val_auc: 0.5000 - val_prc: 0.0302\n",
      "Epoch 17/50\n",
      "66/66 [==============================] - 2s 26ms/step - loss: 1.3121 - tp: 0.0000e+00 - fp: 0.0000e+00 - tn: 132823.0000 - fn: 4175.0000 - accuracy: 0.9695 - precision: 0.0000e+00 - recall: 0.0000e+00 - auc: 0.4993 - prc: 0.0304 - val_loss: 0.1600 - val_tp: 0.0000e+00 - val_fp: 0.0000e+00 - val_tn: 132862.0000 - val_fn: 4136.0000 - val_accuracy: 0.9698 - val_precision: 0.0000e+00 - val_recall: 0.0000e+00 - val_auc: 0.5000 - val_prc: 0.0302\n",
      "Epoch 18/50\n",
      "66/66 [==============================] - 2s 23ms/step - loss: 1.2861 - tp: 0.0000e+00 - fp: 0.0000e+00 - tn: 132823.0000 - fn: 4175.0000 - accuracy: 0.9695 - precision: 0.0000e+00 - recall: 0.0000e+00 - auc: 0.5044 - prc: 0.0308 - val_loss: 0.1634 - val_tp: 0.0000e+00 - val_fp: 0.0000e+00 - val_tn: 132862.0000 - val_fn: 4136.0000 - val_accuracy: 0.9698 - val_precision: 0.0000e+00 - val_recall: 0.0000e+00 - val_auc: 0.5000 - val_prc: 0.0302\n",
      "Epoch 19/50\n",
      "66/66 [==============================] - 1s 23ms/step - loss: 1.2606 - tp: 0.0000e+00 - fp: 0.0000e+00 - tn: 132823.0000 - fn: 4175.0000 - accuracy: 0.9695 - precision: 0.0000e+00 - recall: 0.0000e+00 - auc: 0.5061 - prc: 0.0309 - val_loss: 0.1672 - val_tp: 0.0000e+00 - val_fp: 0.0000e+00 - val_tn: 132862.0000 - val_fn: 4136.0000 - val_accuracy: 0.9698 - val_precision: 0.0000e+00 - val_recall: 0.0000e+00 - val_auc: 0.5000 - val_prc: 0.0302\n",
      "Epoch 20/50\n",
      "66/66 [==============================] - 2s 31ms/step - loss: 1.2355 - tp: 0.0000e+00 - fp: 0.0000e+00 - tn: 132823.0000 - fn: 4175.0000 - accuracy: 0.9695 - precision: 0.0000e+00 - recall: 0.0000e+00 - auc: 0.4991 - prc: 0.0304 - val_loss: 0.1712 - val_tp: 0.0000e+00 - val_fp: 0.0000e+00 - val_tn: 132862.0000 - val_fn: 4136.0000 - val_accuracy: 0.9698 - val_precision: 0.0000e+00 - val_recall: 0.0000e+00 - val_auc: 0.5000 - val_prc: 0.0302\n",
      "Epoch 21/50\n",
      "66/66 [==============================] - 1s 19ms/step - loss: 1.2108 - tp: 0.0000e+00 - fp: 0.0000e+00 - tn: 132823.0000 - fn: 4175.0000 - accuracy: 0.9695 - precision: 0.0000e+00 - recall: 0.0000e+00 - auc: 0.5020 - prc: 0.0306 - val_loss: 0.1755 - val_tp: 0.0000e+00 - val_fp: 0.0000e+00 - val_tn: 132862.0000 - val_fn: 4136.0000 - val_accuracy: 0.9698 - val_precision: 0.0000e+00 - val_recall: 0.0000e+00 - val_auc: 0.5000 - val_prc: 0.0302\n",
      "Epoch 22/50\n",
      "66/66 [==============================] - 1s 18ms/step - loss: 1.1867 - tp: 0.0000e+00 - fp: 0.0000e+00 - tn: 132823.0000 - fn: 4175.0000 - accuracy: 0.9695 - precision: 0.0000e+00 - recall: 0.0000e+00 - auc: 0.5002 - prc: 0.0305 - val_loss: 0.1802 - val_tp: 0.0000e+00 - val_fp: 0.0000e+00 - val_tn: 132862.0000 - val_fn: 4136.0000 - val_accuracy: 0.9698 - val_precision: 0.0000e+00 - val_recall: 0.0000e+00 - val_auc: 0.5000 - val_prc: 0.0302\n",
      "Epoch 23/50\n",
      "66/66 [==============================] - 2s 25ms/step - loss: 1.1631 - tp: 0.0000e+00 - fp: 0.0000e+00 - tn: 132823.0000 - fn: 4175.0000 - accuracy: 0.9695 - precision: 0.0000e+00 - recall: 0.0000e+00 - auc: 0.4974 - prc: 0.0301 - val_loss: 0.1852 - val_tp: 0.0000e+00 - val_fp: 0.0000e+00 - val_tn: 132862.0000 - val_fn: 4136.0000 - val_accuracy: 0.9698 - val_precision: 0.0000e+00 - val_recall: 0.0000e+00 - val_auc: 0.5000 - val_prc: 0.0302\n",
      "Epoch 24/50\n",
      "66/66 [==============================] - 1s 19ms/step - loss: 1.1400 - tp: 0.0000e+00 - fp: 0.0000e+00 - tn: 132823.0000 - fn: 4175.0000 - accuracy: 0.9695 - precision: 0.0000e+00 - recall: 0.0000e+00 - auc: 0.4956 - prc: 0.0301 - val_loss: 0.1904 - val_tp: 0.0000e+00 - val_fp: 0.0000e+00 - val_tn: 132862.0000 - val_fn: 4136.0000 - val_accuracy: 0.9698 - val_precision: 0.0000e+00 - val_recall: 0.0000e+00 - val_auc: 0.5000 - val_prc: 0.0302\n",
      "Epoch 25/50\n",
      "66/66 [==============================] - 2s 26ms/step - loss: 1.1175 - tp: 0.0000e+00 - fp: 0.0000e+00 - tn: 132823.0000 - fn: 4175.0000 - accuracy: 0.9695 - precision: 0.0000e+00 - recall: 0.0000e+00 - auc: 0.5003 - prc: 0.0305 - val_loss: 0.1960 - val_tp: 0.0000e+00 - val_fp: 0.0000e+00 - val_tn: 132862.0000 - val_fn: 4136.0000 - val_accuracy: 0.9698 - val_precision: 0.0000e+00 - val_recall: 0.0000e+00 - val_auc: 0.5000 - val_prc: 0.0302\n",
      "Epoch 26/50\n",
      "66/66 [==============================] - 1s 23ms/step - loss: 1.0956 - tp: 0.0000e+00 - fp: 0.0000e+00 - tn: 132823.0000 - fn: 4175.0000 - accuracy: 0.9695 - precision: 0.0000e+00 - recall: 0.0000e+00 - auc: 0.5065 - prc: 0.0311 - val_loss: 0.2019 - val_tp: 0.0000e+00 - val_fp: 0.0000e+00 - val_tn: 132862.0000 - val_fn: 4136.0000 - val_accuracy: 0.9698 - val_precision: 0.0000e+00 - val_recall: 0.0000e+00 - val_auc: 0.5000 - val_prc: 0.0302\n",
      "Epoch 27/50\n",
      "66/66 [==============================] - 1s 15ms/step - loss: 1.0743 - tp: 0.0000e+00 - fp: 0.0000e+00 - tn: 132823.0000 - fn: 4175.0000 - accuracy: 0.9695 - precision: 0.0000e+00 - recall: 0.0000e+00 - auc: 0.4960 - prc: 0.0301 - val_loss: 0.2082 - val_tp: 0.0000e+00 - val_fp: 0.0000e+00 - val_tn: 132862.0000 - val_fn: 4136.0000 - val_accuracy: 0.9698 - val_precision: 0.0000e+00 - val_recall: 0.0000e+00 - val_auc: 0.5000 - val_prc: 0.0302\n",
      "Epoch 28/50\n",
      "66/66 [==============================] - 1s 20ms/step - loss: 1.0535 - tp: 0.0000e+00 - fp: 0.0000e+00 - tn: 132823.0000 - fn: 4175.0000 - accuracy: 0.9695 - precision: 0.0000e+00 - recall: 0.0000e+00 - auc: 0.4970 - prc: 0.0302 - val_loss: 0.2149 - val_tp: 0.0000e+00 - val_fp: 0.0000e+00 - val_tn: 132862.0000 - val_fn: 4136.0000 - val_accuracy: 0.9698 - val_precision: 0.0000e+00 - val_recall: 0.0000e+00 - val_auc: 0.5000 - val_prc: 0.0302\n",
      "Epoch 29/50\n",
      "66/66 [==============================] - 1s 17ms/step - loss: 1.0334 - tp: 0.0000e+00 - fp: 0.0000e+00 - tn: 132823.0000 - fn: 4175.0000 - accuracy: 0.9695 - precision: 0.0000e+00 - recall: 0.0000e+00 - auc: 0.4958 - prc: 0.0301 - val_loss: 0.2218 - val_tp: 0.0000e+00 - val_fp: 0.0000e+00 - val_tn: 132862.0000 - val_fn: 4136.0000 - val_accuracy: 0.9698 - val_precision: 0.0000e+00 - val_recall: 0.0000e+00 - val_auc: 0.5000 - val_prc: 0.0302\n",
      "Epoch 30/50\n",
      "66/66 [==============================] - 2s 25ms/step - loss: 1.0139 - tp: 0.0000e+00 - fp: 0.0000e+00 - tn: 132823.0000 - fn: 4175.0000 - accuracy: 0.9695 - precision: 0.0000e+00 - recall: 0.0000e+00 - auc: 0.4977 - prc: 0.0303 - val_loss: 0.2290 - val_tp: 0.0000e+00 - val_fp: 0.0000e+00 - val_tn: 132862.0000 - val_fn: 4136.0000 - val_accuracy: 0.9698 - val_precision: 0.0000e+00 - val_recall: 0.0000e+00 - val_auc: 0.5000 - val_prc: 0.0302\n",
      "Epoch 31/50\n",
      "66/66 [==============================] - 2s 25ms/step - loss: 0.9950 - tp: 0.0000e+00 - fp: 0.0000e+00 - tn: 132823.0000 - fn: 4175.0000 - accuracy: 0.9695 - precision: 0.0000e+00 - recall: 0.0000e+00 - auc: 0.5022 - prc: 0.0309 - val_loss: 0.2366 - val_tp: 0.0000e+00 - val_fp: 0.0000e+00 - val_tn: 132862.0000 - val_fn: 4136.0000 - val_accuracy: 0.9698 - val_precision: 0.0000e+00 - val_recall: 0.0000e+00 - val_auc: 0.5000 - val_prc: 0.0302\n",
      "Epoch 32/50\n",
      "66/66 [==============================] - 2s 27ms/step - loss: 0.9766 - tp: 0.0000e+00 - fp: 0.0000e+00 - tn: 132823.0000 - fn: 4175.0000 - accuracy: 0.9695 - precision: 0.0000e+00 - recall: 0.0000e+00 - auc: 0.5041 - prc: 0.0308 - val_loss: 0.2447 - val_tp: 0.0000e+00 - val_fp: 0.0000e+00 - val_tn: 132862.0000 - val_fn: 4136.0000 - val_accuracy: 0.9698 - val_precision: 0.0000e+00 - val_recall: 0.0000e+00 - val_auc: 0.5000 - val_prc: 0.0302\n",
      "Epoch 33/50\n",
      "66/66 [==============================] - 1s 19ms/step - loss: 0.9591 - tp: 0.0000e+00 - fp: 0.0000e+00 - tn: 132823.0000 - fn: 4175.0000 - accuracy: 0.9695 - precision: 0.0000e+00 - recall: 0.0000e+00 - auc: 0.4997 - prc: 0.0303 - val_loss: 0.2530 - val_tp: 0.0000e+00 - val_fp: 0.0000e+00 - val_tn: 132862.0000 - val_fn: 4136.0000 - val_accuracy: 0.9698 - val_precision: 0.0000e+00 - val_recall: 0.0000e+00 - val_auc: 0.5000 - val_prc: 0.0302\n",
      "Epoch 34/50\n",
      "66/66 [==============================] - 2s 24ms/step - loss: 0.9422 - tp: 0.0000e+00 - fp: 0.0000e+00 - tn: 132823.0000 - fn: 4175.0000 - accuracy: 0.9695 - precision: 0.0000e+00 - recall: 0.0000e+00 - auc: 0.5010 - prc: 0.0304 - val_loss: 0.2615 - val_tp: 0.0000e+00 - val_fp: 0.0000e+00 - val_tn: 132862.0000 - val_fn: 4136.0000 - val_accuracy: 0.9698 - val_precision: 0.0000e+00 - val_recall: 0.0000e+00 - val_auc: 0.5000 - val_prc: 0.0302\n",
      "Epoch 35/50\n",
      "66/66 [==============================] - 1s 22ms/step - loss: 0.9259 - tp: 0.0000e+00 - fp: 0.0000e+00 - tn: 132823.0000 - fn: 4175.0000 - accuracy: 0.9695 - precision: 0.0000e+00 - recall: 0.0000e+00 - auc: 0.5019 - prc: 0.0306 - val_loss: 0.2704 - val_tp: 0.0000e+00 - val_fp: 0.0000e+00 - val_tn: 132862.0000 - val_fn: 4136.0000 - val_accuracy: 0.9698 - val_precision: 0.0000e+00 - val_recall: 0.0000e+00 - val_auc: 0.5000 - val_prc: 0.0302\n",
      "Epoch 36/50\n",
      "61/66 [==========================>...] - ETA: 0s - loss: 0.9159 - tp: 0.0000e+00 - fp: 0.0000e+00 - tn: 123934.0000 - fn: 3922.0000 - accuracy: 0.9693 - precision: 0.0000e+00 - recall: 0.0000e+00 - auc: 0.5048 - prc: 0.0311Restoring model weights from the end of the best epoch: 26.\n",
      "66/66 [==============================] - 1s 21ms/step - loss: 0.9103 - tp: 0.0000e+00 - fp: 0.0000e+00 - tn: 132823.0000 - fn: 4175.0000 - accuracy: 0.9695 - precision: 0.0000e+00 - recall: 0.0000e+00 - auc: 0.5019 - prc: 0.0306 - val_loss: 0.2797 - val_tp: 0.0000e+00 - val_fp: 0.0000e+00 - val_tn: 132862.0000 - val_fn: 4136.0000 - val_accuracy: 0.9698 - val_precision: 0.0000e+00 - val_recall: 0.0000e+00 - val_auc: 0.5000 - val_prc: 0.0302\n",
      "Epoch 36: early stopping\n"
     ]
    }
   ],
   "source": [
    "weighted_model = make_model()\n",
    "weighted_model.load_weights(initial_weights)\n",
    "\n",
    "weighted_history = weighted_model.fit(\n",
    "    train_features,\n",
    "    train_labels,\n",
    "    batch_size=BATCH_SIZE,\n",
    "    epochs=EPOCHS,\n",
    "    callbacks=[early_stopping],\n",
    "    validation_data=(val_features, val_labels),\n",
    "    # The class weights go here\n",
    "    class_weight=class_weight) "
   ]
  },
  {
   "cell_type": "markdown",
   "metadata": {
    "id": "R0ynYRO0G3Lx"
   },
   "source": [
    "### Check training history"
   ]
  },
  {
   "cell_type": "code",
   "execution_count": 235,
   "metadata": {
    "id": "BBe9FMO5ucTC",
    "tags": []
   },
   "outputs": [
    {
     "data": {
      "image/png": "[encoded data removed]",
      "text/plain": [
       "<Figure size 864x720 with 4 Axes>"
      ]
     },
     "metadata": {
      "needs_background": "light"
     },
     "output_type": "display_data"
    }
   ],
   "source": [
    "plot_metrics(weighted_history)"
   ]
  },
  {
   "cell_type": "markdown",
   "metadata": {
    "id": "REy6WClTZIwQ"
   },
   "source": [
    "### Evaluate metrics"
   ]
  },
  {
   "cell_type": "code",
   "execution_count": 236,
   "metadata": {
    "id": "nifqscPGw-5w",
    "tags": []
   },
   "outputs": [],
   "source": [
    "train_predictions_weighted = weighted_model.predict(train_features, batch_size=BATCH_SIZE)\n",
    "test_predictions_weighted = weighted_model.predict(test_features, batch_size=BATCH_SIZE)"
   ]
  },
  {
   "cell_type": "code",
   "execution_count": 237,
   "metadata": {
    "id": "owKL2vdMBJr6",
    "tags": []
   },
   "outputs": [
    {
     "name": "stdout",
     "output_type": "stream",
     "text": [
      "loss :  0.20116378366947174\n",
      "tp :  0.0\n",
      "fp :  0.0\n",
      "tn :  265835.0\n",
      "fn :  8161.0\n",
      "accuracy :  0.9702149033546448\n",
      "precision :  0.0\n",
      "recall :  0.0\n",
      "auc :  0.5\n",
      "prc :  0.02978510595858097\n",
      "\n",
      "Legitimate Transactions Detected (True Negatives):  265835\n",
      "Legitimate Transactions Incorrectly Detected (False Positives):  0\n",
      "Fraudulent Transactions Missed (False Negatives):  8161\n",
      "Fraudulent Transactions Detected (True Positives):  0\n",
      "Total Fraudulent Transactions:  8161\n"
     ]
    },
    {
     "data": {
      "image/png": "[encoded data removed]",
      "text/plain": [
       "<Figure size 360x360 with 2 Axes>"
      ]
     },
     "metadata": {
      "needs_background": "light"
     },
     "output_type": "display_data"
    }
   ],
   "source": [
    "weighted_results = weighted_model.evaluate(test_features, test_labels,\n",
    "                                           batch_size=BATCH_SIZE, verbose=0)\n",
    "for name, value in zip(weighted_model.metrics_names, weighted_results):\n",
    "  print(name, ': ', value)\n",
    "print()\n",
    "\n",
    "plot_cm(test_labels, test_predictions_weighted)"
   ]
  },
  {
   "cell_type": "markdown",
   "metadata": {
    "id": "PTh1rtDn8r4-"
   },
   "source": [
    "Here you can see that with class weights the accuracy and precision are lower because there are more false positives, but conversely the recall and AUC are higher because the model also found more true positives. Despite having lower accuracy, this model has higher recall (and identifies more fraudulent transactions). Of course, there is a cost to both types of error (you wouldn't want to bug users by flagging too many legitimate transactions as fraudulent, either). Carefully consider the trade-offs between these different types of errors for your application."
   ]
  },
  {
   "cell_type": "markdown",
   "metadata": {
    "id": "hXDAwyr0HYdX"
   },
   "source": [
    "### Plot the ROC"
   ]
  },
  {
   "cell_type": "code",
   "execution_count": 58,
   "metadata": {
    "id": "3hzScIVZS1Xm",
    "tags": []
   },
   "outputs": [
    {
     "data": {
      "image/png": "[encoded data removed]",
      "text/plain": [
       "<Figure size 864x720 with 1 Axes>"
      ]
     },
     "metadata": {
      "needs_background": "light"
     },
     "output_type": "display_data"
    }
   ],
   "source": [
    "plot_roc(\"Train Baseline\", train_labels, train_predictions_baseline, color=colors[0])\n",
    "plot_roc(\"Test Baseline\", test_labels, test_predictions_baseline, color=colors[0], linestyle='--')\n",
    "\n",
    "plot_roc(\"Train Weighted\", train_labels, train_predictions_weighted, color=colors[1])\n",
    "plot_roc(\"Test Weighted\", test_labels, test_predictions_weighted, color=colors[1], linestyle='--')\n",
    "\n",
    "\n",
    "plt.legend(loc='lower right');"
   ]
  },
  {
   "cell_type": "markdown",
   "metadata": {
    "id": "_0krS8g1OTbD"
   },
   "source": [
    "### Plot the AUPRC"
   ]
  },
  {
   "cell_type": "code",
   "execution_count": 59,
   "metadata": {
    "id": "7jHnmVebOWOC",
    "tags": []
   },
   "outputs": [
    {
     "data": {
      "image/png": "[encoded data removed]",
      "text/plain": [
       "<Figure size 864x720 with 1 Axes>"
      ]
     },
     "metadata": {
      "needs_background": "light"
     },
     "output_type": "display_data"
    }
   ],
   "source": [
    "plot_prc(\"Train Baseline\", train_labels, train_predictions_baseline, color=colors[0])\n",
    "plot_prc(\"Test Baseline\", test_labels, test_predictions_baseline, color=colors[0], linestyle='--')\n",
    "\n",
    "plot_prc(\"Train Weighted\", train_labels, train_predictions_weighted, color=colors[1])\n",
    "plot_prc(\"Test Weighted\", test_labels, test_predictions_weighted, color=colors[1], linestyle='--')\n",
    "\n",
    "\n",
    "plt.legend(loc='lower right');"
   ]
  },
  {
   "cell_type": "markdown",
   "metadata": {
    "id": "5ysRtr6xHnXP"
   },
   "source": [
    "## Oversampling"
   ]
  },
  {
   "cell_type": "markdown",
   "metadata": {
    "id": "18VUHNc-UF5w"
   },
   "source": [
    "### Oversample the minority class\n",
    "\n",
    "A related approach would be to resample the dataset by oversampling the minority class."
   ]
  },
  {
   "cell_type": "code",
   "execution_count": 60,
   "metadata": {
    "id": "sHirNp6u7OWp",
    "tags": []
   },
   "outputs": [],
   "source": [
    "pos_features = train_features[bool_train_labels]\n",
    "neg_features = train_features[~bool_train_labels]\n",
    "\n",
    "pos_labels = train_labels[bool_train_labels]\n",
    "neg_labels = train_labels[~bool_train_labels]"
   ]
  },
  {
   "cell_type": "markdown",
   "metadata": {
    "id": "WgBVbX7P7QrL"
   },
   "source": [
    "#### Using NumPy\n",
    "\n",
    "You can balance the dataset manually by choosing the right number of random \n",
    "indices from the positive examples:"
   ]
  },
  {
   "cell_type": "code",
   "execution_count": 61,
   "metadata": {
    "id": "BUzGjSkwqT88",
    "tags": []
   },
   "outputs": [
    {
     "data": {
      "text/plain": [
       "(340087, 53)"
      ]
     },
     "execution_count": 61,
     "metadata": {},
     "output_type": "execute_result"
    }
   ],
   "source": [
    "ids = np.arange(len(pos_features))\n",
    "choices = np.random.choice(ids, len(neg_features))\n",
    "\n",
    "res_pos_features = pos_features[choices]\n",
    "res_pos_labels = pos_labels[choices]\n",
    "\n",
    "res_pos_features.shape"
   ]
  },
  {
   "cell_type": "code",
   "execution_count": 62,
   "metadata": {
    "id": "7ie_FFet6cep",
    "tags": []
   },
   "outputs": [
    {
     "data": {
      "text/plain": [
       "(680174, 53)"
      ]
     },
     "execution_count": 62,
     "metadata": {},
     "output_type": "execute_result"
    }
   ],
   "source": [
    "resampled_features = np.concatenate([res_pos_features, neg_features], axis=0)\n",
    "resampled_labels = np.concatenate([res_pos_labels, neg_labels], axis=0)\n",
    "\n",
    "order = np.arange(len(resampled_labels))\n",
    "np.random.shuffle(order)\n",
    "resampled_features = resampled_features[order]\n",
    "resampled_labels = resampled_labels[order]\n",
    "\n",
    "resampled_features.shape"
   ]
  },
  {
   "cell_type": "markdown",
   "metadata": {
    "id": "IYfJe2Kc-FAz"
   },
   "source": [
    "#### Using `tf.data`"
   ]
  },
  {
   "cell_type": "markdown",
   "metadata": {
    "id": "usyixaST8v5P"
   },
   "source": [
    "If you're using `tf.data` the easiest way to produce balanced examples is to start with a `positive` and a `negative` dataset, and merge them. See [the tf.data guide](../../guide/data.ipynb) for more examples."
   ]
  },
  {
   "cell_type": "code",
   "execution_count": 238,
   "metadata": {
    "id": "yF4OZ-rI6xb6",
    "tags": []
   },
   "outputs": [],
   "source": [
    "BUFFER_SIZE = 100000\n",
    "\n",
    "def make_ds(features, labels):\n",
    "  ds = tf.data.Dataset.from_tensor_slices((features, labels))#.cache()\n",
    "  ds = ds.shuffle(BUFFER_SIZE).repeat()\n",
    "  return ds\n",
    "\n",
    "pos_ds = make_ds(pos_features, pos_labels)\n",
    "neg_ds = make_ds(neg_features, neg_labels)"
   ]
  },
  {
   "cell_type": "markdown",
   "metadata": {
    "id": "RNQUx-OA-oJc"
   },
   "source": [
    "Each dataset provides `(feature, label)` pairs:"
   ]
  },
  {
   "cell_type": "code",
   "execution_count": 239,
   "metadata": {
    "id": "llXc9rNH7Fbz",
    "tags": []
   },
   "outputs": [
    {
     "name": "stdout",
     "output_type": "stream",
     "text": [
      "Features:\n",
      " [ 1.08952067 -0.77244222 -0.43996817         nan         nan         nan\n",
      " -0.79658444 -0.29165342  1.12240774 -0.11092124  0.          2.5012085\n",
      "  0.          2.10376016 -0.39099534  1.56311385  2.43550011  1.93899758\n",
      "  3.47013141  2.29253051         nan         nan         nan         nan\n",
      "         nan         nan         nan         nan -0.1528235  -0.76045256\n",
      " -0.07050213 -2.34442221 -0.53895901 -0.37279314  0.80457757  3.07123267\n",
      "  0.8107251  -0.24153808  0.59828928 -0.06307527 -0.01945522 -0.01750243\n",
      " -0.02630529 -0.05992032 -0.24859847 -0.03051431  1.21929885  0.47128401\n",
      "  0.51136552 -1.1237383  -0.19884066 -0.03115111 -0.42427093]\n",
      "\n",
      "Label:  1\n"
     ]
    }
   ],
   "source": [
    "for features, label in pos_ds.take(1):\n",
    "  print(\"Features:\\n\", features.numpy())\n",
    "  print()\n",
    "  print(\"Label: \", label.numpy())"
   ]
  },
  {
   "cell_type": "markdown",
   "metadata": {
    "id": "sLEfjZO0-vbN"
   },
   "source": [
    "Merge the two together using `tf.data.Dataset.sample_from_datasets`:"
   ]
  },
  {
   "cell_type": "code",
   "execution_count": 240,
   "metadata": {
    "id": "e7w9UQPT9wzE",
    "tags": []
   },
   "outputs": [],
   "source": [
    "resampled_ds = tf.data.Dataset.sample_from_datasets([pos_ds, neg_ds], weights=[0.5, 0.5])\n",
    "resampled_ds = resampled_ds.batch(BATCH_SIZE).prefetch(2)"
   ]
  },
  {
   "cell_type": "code",
   "execution_count": 241,
   "metadata": {
    "id": "EWXARdTdAuQK",
    "tags": []
   },
   "outputs": [
    {
     "name": "stdout",
     "output_type": "stream",
     "text": [
      "0.504293893129771\n"
     ]
    }
   ],
   "source": [
    "for features, label in resampled_ds.take(1):\n",
    "  print(label.numpy().mean())"
   ]
  },
  {
   "cell_type": "markdown",
   "metadata": {
    "id": "irgqf3YxAyN0"
   },
   "source": [
    "To use this dataset, you'll need the number of steps per epoch.\n",
    "\n",
    "The definition of \"epoch\" in this case is less clear. Say it's the number of batches required to see each negative example once:"
   ]
  },
  {
   "cell_type": "code",
   "execution_count": 242,
   "metadata": {
    "id": "xH-7K46AAxpq",
    "tags": []
   },
   "outputs": [
    {
     "data": {
      "text/plain": [
       "508.0"
      ]
     },
     "execution_count": 242,
     "metadata": {},
     "output_type": "execute_result"
    }
   ],
   "source": [
    "resampled_steps_per_epoch = np.ceil(2.0*neg/BATCH_SIZE)\n",
    "resampled_steps_per_epoch"
   ]
  },
  {
   "cell_type": "markdown",
   "metadata": {
    "id": "XZ1BvEpcBVHP"
   },
   "source": [
    "### Train on the oversampled data\n",
    "\n",
    "Now try training the model with the resampled data set instead of using class weights to see how these methods compare.\n",
    "\n",
    "Note: Because the data was balanced by replicating the positive examples, the total dataset size is larger, and each epoch runs for more training steps. "
   ]
  },
  {
   "cell_type": "code",
   "execution_count": null,
   "metadata": {
    "id": "soRQ89JYqd6b",
    "tags": []
   },
   "outputs": [
    {
     "name": "stdout",
     "output_type": "stream",
     "text": [
      "Epoch 1/50\n",
      "508/508 [==============================] - 78s 149ms/step - loss: 0.6931 - tp: 220604.0000 - fp: 221652.0000 - tn: 577012.0000 - fn: 319496.0000 - accuracy: 0.5958 - precision: 0.4988 - recall: 0.4085 - auc: 0.6589 - prc: 0.4988 - val_loss: 0.6912 - val_tp: 0.0000e+00 - val_fp: 0.0000e+00 - val_tn: 132862.0000 - val_fn: 4136.0000 - val_accuracy: 0.9698 - val_precision: 0.0000e+00 - val_recall: 0.0000e+00 - val_auc: 0.5000 - val_prc: 0.0302\n",
      "Epoch 2/50\n",
      "508/508 [==============================] - 74s 147ms/step - loss: 0.6931 - tp: 277110.0000 - fp: 276234.0000 - tn: 255672.0000 - fn: 255752.0000 - accuracy: 0.5004 - precision: 0.5008 - recall: 0.5200 - auc: 0.5001 - prc: 0.5006 - val_loss: 0.6966 - val_tp: 4136.0000 - val_fp: 132862.0000 - val_tn: 0.0000e+00 - val_fn: 0.0000e+00 - val_accuracy: 0.0302 - val_precision: 0.0302 - val_recall: 1.0000 - val_auc: 0.5000 - val_prc: 0.0302\n",
      "Epoch 3/50\n",
      "508/508 [==============================] - 75s 149ms/step - loss: 0.6931 - tp: 36436.0000 - fp: 36924.0000 - tn: 496781.0000 - fn: 494627.0000 - accuracy: 0.5008 - precision: 0.4967 - recall: 0.0686 - auc: 0.4998 - prc: 0.4987 - val_loss: 0.6912 - val_tp: 0.0000e+00 - val_fp: 0.0000e+00 - val_tn: 132862.0000 - val_fn: 4136.0000 - val_accuracy: 0.9698 - val_precision: 0.0000e+00 - val_recall: 0.0000e+00 - val_auc: 0.5000 - val_prc: 0.0302\n",
      "Epoch 4/50\n",
      "508/508 [==============================] - 74s 146ms/step - loss: 0.6931 - tp: 103479.0000 - fp: 104025.0000 - tn: 428869.0000 - fn: 428395.0000 - accuracy: 0.5000 - precision: 0.4987 - recall: 0.1946 - auc: 0.5000 - prc: 0.4995 - val_loss: 0.6911 - val_tp: 0.0000e+00 - val_fp: 0.0000e+00 - val_tn: 132862.0000 - val_fn: 4136.0000 - val_accuracy: 0.9698 - val_precision: 0.0000e+00 - val_recall: 0.0000e+00 - val_auc: 0.5000 - val_prc: 0.0302\n",
      "Epoch 5/50\n",
      "508/508 [==============================] - 75s 148ms/step - loss: 0.6932 - tp: 230337.0000 - fp: 230783.0000 - tn: 301419.0000 - fn: 302229.0000 - accuracy: 0.4994 - precision: 0.4995 - recall: 0.4325 - auc: 0.4999 - prc: 0.5000 - val_loss: 0.6924 - val_tp: 0.0000e+00 - val_fp: 0.0000e+00 - val_tn: 132862.0000 - val_fn: 4136.0000 - val_accuracy: 0.9698 - val_precision: 0.0000e+00 - val_recall: 0.0000e+00 - val_auc: 0.5000 - val_prc: 0.0302\n",
      "Epoch 6/50\n",
      "348/508 [===================>..........] - ETA: 22s - loss: 0.6931 - tp: 256173.0000 - fp: 255251.0000 - tn: 109183.0000 - fn: 108801.0000 - accuracy: 0.5009 - precision: 0.5009 - recall: 0.7019 - auc: 0.4998 - prc: 0.5001"
     ]
    }
   ],
   "source": [
    "resampled_model = make_model()\n",
    "resampled_model.load_weights(initial_weights)\n",
    "\n",
    "# Reset the bias to zero, since this dataset is balanced.\n",
    "output_layer = resampled_model.layers[-1] \n",
    "output_layer.bias.assign([0])\n",
    "\n",
    "val_ds = tf.data.Dataset.from_tensor_slices((val_features, val_labels)).cache()\n",
    "val_ds = val_ds.batch(BATCH_SIZE).prefetch(2) \n",
    "\n",
    "resampled_history = resampled_model.fit(\n",
    "    resampled_ds,\n",
    "    epochs=EPOCHS,\n",
    "    steps_per_epoch=resampled_steps_per_epoch,\n",
    "    callbacks=[early_stopping],\n",
    "    validation_data=val_ds)"
   ]
  },
  {
   "cell_type": "markdown",
   "metadata": {
    "id": "avALvzUp3T_c"
   },
   "source": [
    "If the training process were considering the whole dataset on each gradient update, this oversampling would be basically identical to the class weighting.\n",
    "\n",
    "But when training the model batch-wise, as you did here, the oversampled data provides a smoother gradient signal: Instead of each positive example being shown in one batch with a large weight, they're shown in many different batches each time with a small weight. \n",
    "\n",
    "This smoother gradient signal makes it easier to train the model."
   ]
  },
  {
   "cell_type": "markdown",
   "metadata": {
    "id": "klHZ0HV76VC5"
   },
   "source": [
    "### Check training history\n",
    "\n",
    "Note that the distributions of metrics will be different here, because the training data has a totally different distribution from the validation and test data. "
   ]
  },
  {
   "cell_type": "code",
   "execution_count": 199,
   "metadata": {
    "id": "YoUGfr1vuivl",
    "tags": []
   },
   "outputs": [
    {
     "data": {
      "image/png": "[encoded data removed]",
      "text/plain": [
       "<Figure size 864x720 with 4 Axes>"
      ]
     },
     "metadata": {
      "needs_background": "light"
     },
     "output_type": "display_data"
    }
   ],
   "source": [
    "plot_metrics(resampled_history)"
   ]
  },
  {
   "cell_type": "markdown",
   "metadata": {
    "id": "1PuH3A2vnwrh"
   },
   "source": [
    "### Re-train\n"
   ]
  },
  {
   "cell_type": "markdown",
   "metadata": {
    "id": "KFLxRL8eoDE5"
   },
   "source": [
    "Because training is easier on the balanced data, the above training procedure may overfit quickly. \n",
    "\n",
    "So break up the epochs to give the `tf.keras.callbacks.EarlyStopping` finer control over when to stop training."
   ]
  },
  {
   "cell_type": "code",
   "execution_count": 200,
   "metadata": {
    "id": "e_yn9I26qAHU",
    "tags": []
   },
   "outputs": [
    {
     "ename": "ValueError",
     "evalue": "Shapes (1,) and (106,) are incompatible",
     "output_type": "error",
     "traceback": [
      "\u001b[0;31m---------------------------------------------------------------------------\u001b[0m",
      "\u001b[0;31mValueError\u001b[0m                                Traceback (most recent call last)",
      "\u001b[0;32m/tmp/ipykernel_23908/2456371717.py\u001b[0m in \u001b[0;36m<module>\u001b[0;34m\u001b[0m\n\u001b[1;32m      1\u001b[0m \u001b[0mresampled_model\u001b[0m \u001b[0;34m=\u001b[0m \u001b[0mmake_model\u001b[0m\u001b[0;34m(\u001b[0m\u001b[0;34m)\u001b[0m\u001b[0;34m\u001b[0m\u001b[0;34m\u001b[0m\u001b[0m\n\u001b[0;32m----> 2\u001b[0;31m \u001b[0mresampled_model\u001b[0m\u001b[0;34m.\u001b[0m\u001b[0mload_weights\u001b[0m\u001b[0;34m(\u001b[0m\u001b[0minitial_weights\u001b[0m\u001b[0;34m)\u001b[0m\u001b[0;34m\u001b[0m\u001b[0;34m\u001b[0m\u001b[0m\n\u001b[0m\u001b[1;32m      3\u001b[0m \u001b[0;34m\u001b[0m\u001b[0m\n\u001b[1;32m      4\u001b[0m \u001b[0;31m# Reset the bias to zero, since this dataset is balanced.\u001b[0m\u001b[0;34m\u001b[0m\u001b[0;34m\u001b[0m\u001b[0;34m\u001b[0m\u001b[0m\n\u001b[1;32m      5\u001b[0m \u001b[0moutput_layer\u001b[0m \u001b[0;34m=\u001b[0m \u001b[0mresampled_model\u001b[0m\u001b[0;34m.\u001b[0m\u001b[0mlayers\u001b[0m\u001b[0;34m[\u001b[0m\u001b[0;34m-\u001b[0m\u001b[0;36m1\u001b[0m\u001b[0;34m]\u001b[0m\u001b[0;34m\u001b[0m\u001b[0;34m\u001b[0m\u001b[0m\n",
      "\u001b[0;32m/opt/conda/lib/python3.7/site-packages/keras/utils/traceback_utils.py\u001b[0m in \u001b[0;36merror_handler\u001b[0;34m(*args, **kwargs)\u001b[0m\n\u001b[1;32m     65\u001b[0m     \u001b[0;32mexcept\u001b[0m \u001b[0mException\u001b[0m \u001b[0;32mas\u001b[0m \u001b[0me\u001b[0m\u001b[0;34m:\u001b[0m  \u001b[0;31m# pylint: disable=broad-except\u001b[0m\u001b[0;34m\u001b[0m\u001b[0;34m\u001b[0m\u001b[0m\n\u001b[1;32m     66\u001b[0m       \u001b[0mfiltered_tb\u001b[0m \u001b[0;34m=\u001b[0m \u001b[0m_process_traceback_frames\u001b[0m\u001b[0;34m(\u001b[0m\u001b[0me\u001b[0m\u001b[0;34m.\u001b[0m\u001b[0m__traceback__\u001b[0m\u001b[0;34m)\u001b[0m\u001b[0;34m\u001b[0m\u001b[0;34m\u001b[0m\u001b[0m\n\u001b[0;32m---> 67\u001b[0;31m       \u001b[0;32mraise\u001b[0m \u001b[0me\u001b[0m\u001b[0;34m.\u001b[0m\u001b[0mwith_traceback\u001b[0m\u001b[0;34m(\u001b[0m\u001b[0mfiltered_tb\u001b[0m\u001b[0;34m)\u001b[0m \u001b[0;32mfrom\u001b[0m \u001b[0;32mNone\u001b[0m\u001b[0;34m\u001b[0m\u001b[0;34m\u001b[0m\u001b[0m\n\u001b[0m\u001b[1;32m     68\u001b[0m     \u001b[0;32mfinally\u001b[0m\u001b[0;34m:\u001b[0m\u001b[0;34m\u001b[0m\u001b[0;34m\u001b[0m\u001b[0m\n\u001b[1;32m     69\u001b[0m       \u001b[0;32mdel\u001b[0m \u001b[0mfiltered_tb\u001b[0m\u001b[0;34m\u001b[0m\u001b[0;34m\u001b[0m\u001b[0m\n",
      "\u001b[0;32m/opt/conda/lib/python3.7/site-packages/tensorflow/python/framework/tensor_shape.py\u001b[0m in \u001b[0;36massert_is_compatible_with\u001b[0;34m(self, other)\u001b[0m\n\u001b[1;32m   1165\u001b[0m     \"\"\"\n\u001b[1;32m   1166\u001b[0m     \u001b[0;32mif\u001b[0m \u001b[0;32mnot\u001b[0m \u001b[0mself\u001b[0m\u001b[0;34m.\u001b[0m\u001b[0mis_compatible_with\u001b[0m\u001b[0;34m(\u001b[0m\u001b[0mother\u001b[0m\u001b[0;34m)\u001b[0m\u001b[0;34m:\u001b[0m\u001b[0;34m\u001b[0m\u001b[0;34m\u001b[0m\u001b[0m\n\u001b[0;32m-> 1167\u001b[0;31m       \u001b[0;32mraise\u001b[0m \u001b[0mValueError\u001b[0m\u001b[0;34m(\u001b[0m\u001b[0;34m\"Shapes %s and %s are incompatible\"\u001b[0m \u001b[0;34m%\u001b[0m \u001b[0;34m(\u001b[0m\u001b[0mself\u001b[0m\u001b[0;34m,\u001b[0m \u001b[0mother\u001b[0m\u001b[0;34m)\u001b[0m\u001b[0;34m)\u001b[0m\u001b[0;34m\u001b[0m\u001b[0;34m\u001b[0m\u001b[0m\n\u001b[0m\u001b[1;32m   1168\u001b[0m \u001b[0;34m\u001b[0m\u001b[0m\n\u001b[1;32m   1169\u001b[0m   \u001b[0;32mdef\u001b[0m \u001b[0mmost_specific_compatible_shape\u001b[0m\u001b[0;34m(\u001b[0m\u001b[0mself\u001b[0m\u001b[0;34m,\u001b[0m \u001b[0mother\u001b[0m\u001b[0;34m)\u001b[0m\u001b[0;34m:\u001b[0m\u001b[0;34m\u001b[0m\u001b[0;34m\u001b[0m\u001b[0m\n",
      "\u001b[0;31mValueError\u001b[0m: Shapes (1,) and (106,) are incompatible"
     ]
    }
   ],
   "source": [
    "resampled_model = make_model()\n",
    "resampled_model.load_weights(initial_weights)\n",
    "\n",
    "# Reset the bias to zero, since this dataset is balanced.\n",
    "output_layer = resampled_model.layers[-1] \n",
    "output_layer.bias.assign([0])\n",
    "\n",
    "resampled_history = resampled_model.fit(\n",
    "    resampled_ds,\n",
    "    # These are not real epochs\n",
    "    steps_per_epoch=20,\n",
    "    epochs=10*EPOCHS,\n",
    "    callbacks=[early_stopping],\n",
    "    validation_data=(val_ds))"
   ]
  },
  {
   "cell_type": "markdown",
   "metadata": {
    "id": "UuJYKv0gpBK1"
   },
   "source": [
    "### Re-check training history"
   ]
  },
  {
   "cell_type": "code",
   "execution_count": 71,
   "metadata": {
    "id": "FMycrpJwn39w",
    "tags": []
   },
   "outputs": [
    {
     "data": {
      "image/png": "[encoded data removed]",
      "text/plain": [
       "<Figure size 864x720 with 4 Axes>"
      ]
     },
     "metadata": {
      "needs_background": "light"
     },
     "output_type": "display_data"
    }
   ],
   "source": [
    "plot_metrics(resampled_history)"
   ]
  },
  {
   "cell_type": "markdown",
   "metadata": {
    "id": "bUuE5HOWZiwP"
   },
   "source": [
    "### Evaluate metrics"
   ]
  },
  {
   "cell_type": "code",
   "execution_count": 72,
   "metadata": {
    "id": "C0fmHSgXxFdW",
    "tags": []
   },
   "outputs": [],
   "source": [
    "train_predictions_resampled = resampled_model.predict(train_features, batch_size=BATCH_SIZE)\n",
    "test_predictions_resampled = resampled_model.predict(test_features, batch_size=BATCH_SIZE)"
   ]
  },
  {
   "cell_type": "code",
   "execution_count": 73,
   "metadata": {
    "id": "FO0mMOYUDWFk",
    "tags": []
   },
   "outputs": [
    {
     "name": "stdout",
     "output_type": "stream",
     "text": [
      "loss :  0.6930392980575562\n",
      "tp :  0.0\n",
      "fp :  0.0\n",
      "tn :  106368.0\n",
      "fn :  3231.0\n",
      "accuracy :  0.9705197811126709\n",
      "precision :  0.0\n",
      "recall :  0.0\n",
      "auc :  0.5\n",
      "prc :  0.02948019839823246\n",
      "\n",
      "Legitimate Transactions Detected (True Negatives):  106368\n",
      "Legitimate Transactions Incorrectly Detected (False Positives):  0\n",
      "Fraudulent Transactions Missed (False Negatives):  3231\n",
      "Fraudulent Transactions Detected (True Positives):  0\n",
      "Total Fraudulent Transactions:  3231\n"
     ]
    },
    {
     "data": {
      "image/png": "[encoded data removed]",
      "text/plain": [
       "<Figure size 360x360 with 2 Axes>"
      ]
     },
     "metadata": {
      "needs_background": "light"
     },
     "output_type": "display_data"
    }
   ],
   "source": [
    "resampled_results = resampled_model.evaluate(test_features, test_labels,\n",
    "                                             batch_size=BATCH_SIZE, verbose=0)\n",
    "for name, value in zip(resampled_model.metrics_names, resampled_results):\n",
    "  print(name, ': ', value)\n",
    "print()\n",
    "\n",
    "plot_cm(test_labels, test_predictions_resampled)"
   ]
  },
  {
   "cell_type": "markdown",
   "metadata": {
    "id": "_xYozM1IIITq"
   },
   "source": [
    "### Plot the ROC"
   ]
  },
  {
   "cell_type": "code",
   "execution_count": 61,
   "metadata": {
    "id": "fye_CiuYrZ1U",
    "tags": []
   },
   "outputs": [
    {
     "data": {
      "image/png": "[encoded data removed]",
      "text/plain": [
       "<Figure size 864x720 with 1 Axes>"
      ]
     },
     "metadata": {
      "needs_background": "light"
     },
     "output_type": "display_data"
    }
   ],
   "source": [
    "plot_roc(\"Train Baseline\", train_labels, train_predictions_baseline, color=colors[0])\n",
    "plot_roc(\"Test Baseline\", test_labels, test_predictions_baseline, color=colors[0], linestyle='--')\n",
    "\n",
    "plot_roc(\"Train Weighted\", train_labels, train_predictions_weighted, color=colors[1])\n",
    "plot_roc(\"Test Weighted\", test_labels, test_predictions_weighted, color=colors[1], linestyle='--')\n",
    "\n",
    "plot_roc(\"Train Resampled\", train_labels, train_predictions_resampled, color=colors[2])\n",
    "plot_roc(\"Test Resampled\", test_labels, test_predictions_resampled, color=colors[2], linestyle='--')\n",
    "plt.legend(loc='lower right');"
   ]
  },
  {
   "cell_type": "markdown",
   "metadata": {
    "id": "vayGnv0VOe_v"
   },
   "source": [
    "### Plot the AUPRC\n"
   ]
  },
  {
   "cell_type": "code",
   "execution_count": 62,
   "metadata": {
    "id": "wgWXQ8aeOhCZ",
    "tags": []
   },
   "outputs": [
    {
     "data": {
      "image/png": "[encoded data removed]",
      "text/plain": [
       "<Figure size 864x720 with 1 Axes>"
      ]
     },
     "metadata": {
      "needs_background": "light"
     },
     "output_type": "display_data"
    }
   ],
   "source": [
    "plot_prc(\"Train Baseline\", train_labels, train_predictions_baseline, color=colors[0])\n",
    "plot_prc(\"Test Baseline\", test_labels, test_predictions_baseline, color=colors[0], linestyle='--')\n",
    "\n",
    "plot_prc(\"Train Weighted\", train_labels, train_predictions_weighted, color=colors[1])\n",
    "plot_prc(\"Test Weighted\", test_labels, test_predictions_weighted, color=colors[1], linestyle='--')\n",
    "\n",
    "plot_prc(\"Train Resampled\", train_labels, train_predictions_resampled, color=colors[2])\n",
    "plot_prc(\"Test Resampled\", test_labels, test_predictions_resampled, color=colors[2], linestyle='--')\n",
    "plt.legend(loc='lower right');"
   ]
  },
  {
   "cell_type": "markdown",
   "metadata": {
    "id": "3o3f0ywl8uqW"
   },
   "source": [
    "## Applying this tutorial to your problem\n",
    "\n",
    "Imbalanced data classification is an inherently difficult task since there are so few samples to learn from. You should always start with the data first and do your best to collect as many samples as possible and give substantial thought to what features may be relevant so the model can get the most out of your minority class. At some point your model may struggle to improve and yield the results you want, so it is important to keep in mind the context of your problem and the trade offs between different types of errors."
   ]
  }
 ],
 "metadata": {
  "colab": {
   "collapsed_sections": [],
   "name": "imbalanced_data.ipynb",
   "toc_visible": true
  },
  "environment": {
   "kernel": "python3",
   "name": "tf2-gpu.2-8.m94",
   "type": "gcloud",
   "uri": "gcr.io/deeplearning-platform-release/tf2-gpu.2-8:m94"
  },
  "kernelspec": {
   "display_name": "Python 3",
   "language": "python",
   "name": "python3"
  },
  "language_info": {
   "codemirror_mode": {
    "name": "ipython",
    "version": 3
   },
   "file_extension": ".py",
   "mimetype": "text/x-python",
   "name": "python",
   "nbconvert_exporter": "python",
   "pygments_lexer": "ipython3",
   "version": "3.7.12"
  }
 },
 "nbformat": 4,
 "nbformat_minor": 4
}
